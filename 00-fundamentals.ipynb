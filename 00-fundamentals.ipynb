{
 "cells": [
  {
   "cell_type": "markdown",
   "id": "948f4111-3afd-433d-9142-29c868c945b6",
   "metadata": {},
   "source": [
    "# 00 PyTorch Fundamentals\n",
    "\n",
    "https://www.learnpytorch.io/00_pytorch_fundamentals/"
   ]
  },
  {
   "cell_type": "code",
   "execution_count": 1,
   "id": "da99fc3d-8190-4c33-97c5-d94a6bf5a0c4",
   "metadata": {},
   "outputs": [
    {
     "name": "stdout",
     "output_type": "stream",
     "text": [
      "True\n"
     ]
    }
   ],
   "source": [
    "import torch\n",
    "import pandas as pd\n",
    "import numpy as np\n",
    "import matplotlib.pyplot as plt\n",
    "\n",
    "\n",
    "# Check for GPU (should return True)\n",
    "print(torch.cuda.is_available())"
   ]
  },
  {
   "cell_type": "markdown",
   "id": "0698d0c1-e4c7-4015-a559-cb46c300abc6",
   "metadata": {},
   "source": [
    "# TENSORS shapes and dimensions"
   ]
  },
  {
   "cell_type": "code",
   "execution_count": 2,
   "id": "29e1b295-38bb-48d6-9924-090d12a15900",
   "metadata": {},
   "outputs": [
    {
     "data": {
      "text/plain": [
       "tensor(7)"
      ]
     },
     "execution_count": 2,
     "metadata": {},
     "output_type": "execute_result"
    }
   ],
   "source": [
    "# scalar\n",
    "scalar = torch.tensor(7)\n",
    "scalar"
   ]
  },
  {
   "cell_type": "code",
   "execution_count": 3,
   "id": "9e29c427-112b-4cdc-a52d-f3c7b51ab79d",
   "metadata": {},
   "outputs": [
    {
     "data": {
      "text/plain": [
       "0"
      ]
     },
     "execution_count": 3,
     "metadata": {},
     "output_type": "execute_result"
    }
   ],
   "source": [
    "scalar.ndim"
   ]
  },
  {
   "cell_type": "code",
   "execution_count": 4,
   "id": "e8a69af5-6eb6-4847-9033-ca24b8ecce7d",
   "metadata": {},
   "outputs": [
    {
     "data": {
      "text/plain": [
       "torch.Size([])"
      ]
     },
     "execution_count": 4,
     "metadata": {},
     "output_type": "execute_result"
    }
   ],
   "source": [
    "scalar.shape"
   ]
  },
  {
   "cell_type": "code",
   "execution_count": 5,
   "id": "a1539080-7c5e-48b0-a7b5-5cbcfd181fd4",
   "metadata": {},
   "outputs": [
    {
     "data": {
      "text/plain": [
       "7"
      ]
     },
     "execution_count": 5,
     "metadata": {},
     "output_type": "execute_result"
    }
   ],
   "source": [
    "scalar.item()"
   ]
  },
  {
   "cell_type": "code",
   "execution_count": 6,
   "id": "66dbb2a5-5d42-4ce6-9abb-be84a0e0e6d4",
   "metadata": {},
   "outputs": [
    {
     "data": {
      "text/plain": [
       "tensor([7, 7])"
      ]
     },
     "execution_count": 6,
     "metadata": {},
     "output_type": "execute_result"
    }
   ],
   "source": [
    "# Vector\n",
    "vector = torch.tensor([7, 7])\n",
    "vector"
   ]
  },
  {
   "cell_type": "code",
   "execution_count": 7,
   "id": "d43b0c8f-ee1f-485d-90c9-cc8d5a05e37a",
   "metadata": {},
   "outputs": [
    {
     "data": {
      "text/plain": [
       "1"
      ]
     },
     "execution_count": 7,
     "metadata": {},
     "output_type": "execute_result"
    }
   ],
   "source": [
    "vector.ndim"
   ]
  },
  {
   "cell_type": "code",
   "execution_count": 8,
   "id": "aa5e1059-649b-447a-b760-b675bcdf5205",
   "metadata": {},
   "outputs": [
    {
     "data": {
      "text/plain": [
       "torch.Size([2])"
      ]
     },
     "execution_count": 8,
     "metadata": {},
     "output_type": "execute_result"
    }
   ],
   "source": [
    "vector.shape"
   ]
  },
  {
   "cell_type": "code",
   "execution_count": 9,
   "id": "b19011d0-eac3-498f-94ac-8b63b55594c2",
   "metadata": {},
   "outputs": [
    {
     "data": {
      "text/plain": [
       "tensor([[ 7,  8],\n",
       "        [ 9, 10]])"
      ]
     },
     "execution_count": 9,
     "metadata": {},
     "output_type": "execute_result"
    }
   ],
   "source": [
    "# MATRIX\n",
    "MATRIX = torch.tensor([[7, 8],\n",
    "                       [9, 10]])\n",
    "MATRIX"
   ]
  },
  {
   "cell_type": "code",
   "execution_count": 10,
   "id": "3b30c7b2-ade3-44af-b83d-13c7bb317bfd",
   "metadata": {},
   "outputs": [
    {
     "data": {
      "text/plain": [
       "2"
      ]
     },
     "execution_count": 10,
     "metadata": {},
     "output_type": "execute_result"
    }
   ],
   "source": [
    "MATRIX.ndim"
   ]
  },
  {
   "cell_type": "code",
   "execution_count": 11,
   "id": "fd7334a4-aaa5-4f01-948c-d8cc7304a0d0",
   "metadata": {},
   "outputs": [
    {
     "data": {
      "text/plain": [
       "tensor([7, 8])"
      ]
     },
     "execution_count": 11,
     "metadata": {},
     "output_type": "execute_result"
    }
   ],
   "source": [
    "MATRIX[0]"
   ]
  },
  {
   "cell_type": "code",
   "execution_count": 12,
   "id": "cfcaaacf-892b-4e75-ad1a-8d49a56a1f6d",
   "metadata": {},
   "outputs": [
    {
     "data": {
      "text/plain": [
       "tensor([ 9, 10])"
      ]
     },
     "execution_count": 12,
     "metadata": {},
     "output_type": "execute_result"
    }
   ],
   "source": [
    "MATRIX[1]"
   ]
  },
  {
   "cell_type": "code",
   "execution_count": 13,
   "id": "95e224b1-abcc-4943-a6df-17937129624a",
   "metadata": {},
   "outputs": [
    {
     "data": {
      "text/plain": [
       "torch.Size([2, 2])"
      ]
     },
     "execution_count": 13,
     "metadata": {},
     "output_type": "execute_result"
    }
   ],
   "source": [
    "MATRIX.shape"
   ]
  },
  {
   "cell_type": "code",
   "execution_count": 14,
   "id": "8a6e9439-dcfa-4be4-b737-5f43210aefa6",
   "metadata": {},
   "outputs": [
    {
     "data": {
      "text/plain": [
       "tensor([[[1, 2, 3],\n",
       "         [3, 6, 9],\n",
       "         [2, 4, 5]]])"
      ]
     },
     "execution_count": 14,
     "metadata": {},
     "output_type": "execute_result"
    }
   ],
   "source": [
    "# TENSOR\n",
    "TENSOR = torch.tensor([[[1, 2, 3],\n",
    "                        [3, 6, 9],\n",
    "                        [2, 4, 5]]])\n",
    "TENSOR"
   ]
  },
  {
   "cell_type": "code",
   "execution_count": 15,
   "id": "bb3bb43c-3397-4767-828f-5e6a2e8e587d",
   "metadata": {},
   "outputs": [
    {
     "data": {
      "text/plain": [
       "3"
      ]
     },
     "execution_count": 15,
     "metadata": {},
     "output_type": "execute_result"
    }
   ],
   "source": [
    "TENSOR.ndim"
   ]
  },
  {
   "cell_type": "code",
   "execution_count": 16,
   "id": "246cfc8e-1418-4984-94f4-f00789474239",
   "metadata": {},
   "outputs": [
    {
     "data": {
      "text/plain": [
       "torch.Size([1, 3, 3])"
      ]
     },
     "execution_count": 16,
     "metadata": {},
     "output_type": "execute_result"
    }
   ],
   "source": [
    "TENSOR.shape"
   ]
  },
  {
   "cell_type": "markdown",
   "id": "59320e2c-7853-4902-ba77-be581b706f90",
   "metadata": {},
   "source": [
    "# Random TENSORS"
   ]
  },
  {
   "cell_type": "code",
   "execution_count": 17,
   "id": "07bc0930-24fe-4aad-9f3b-dcddcbc9f702",
   "metadata": {},
   "outputs": [
    {
     "data": {
      "text/plain": [
       "tensor([[0.3400, 0.1828, 0.3022, 0.5389],\n",
       "        [0.9224, 0.7032, 0.7090, 0.0886],\n",
       "        [0.0020, 0.8127, 0.2122, 0.7709]])"
      ]
     },
     "execution_count": 17,
     "metadata": {},
     "output_type": "execute_result"
    }
   ],
   "source": [
    "random_tensor = torch.rand(3, 4)\n",
    "random_tensor"
   ]
  },
  {
   "cell_type": "code",
   "execution_count": 18,
   "id": "8297801e-9faf-4906-ad51-978baf9bf9f1",
   "metadata": {},
   "outputs": [
    {
     "data": {
      "text/plain": [
       "2"
      ]
     },
     "execution_count": 18,
     "metadata": {},
     "output_type": "execute_result"
    }
   ],
   "source": [
    "random_tensor.ndim"
   ]
  },
  {
   "cell_type": "code",
   "execution_count": 19,
   "id": "82477a3c-5413-4d31-b770-e9c3de85a433",
   "metadata": {},
   "outputs": [
    {
     "data": {
      "text/plain": [
       "torch.Size([3, 4])"
      ]
     },
     "execution_count": 19,
     "metadata": {},
     "output_type": "execute_result"
    }
   ],
   "source": [
    "random_tensor.shape"
   ]
  },
  {
   "cell_type": "markdown",
   "id": "8107edbc-a585-4adf-b0f5-1ba8a7592660",
   "metadata": {},
   "source": [
    "# Zeroes and ones"
   ]
  },
  {
   "cell_type": "code",
   "execution_count": 20,
   "id": "e2fa2e70-71c8-46f1-98e4-ad4e076d5197",
   "metadata": {},
   "outputs": [
    {
     "data": {
      "text/plain": [
       "tensor([[0., 0., 0., 0.],\n",
       "        [0., 0., 0., 0.],\n",
       "        [0., 0., 0., 0.]])"
      ]
     },
     "execution_count": 20,
     "metadata": {},
     "output_type": "execute_result"
    }
   ],
   "source": [
    "# Create a tensor of all zeros\n",
    "zeroes = torch.zeros(size=(3, 4))\n",
    "zeroes"
   ]
  },
  {
   "cell_type": "code",
   "execution_count": 21,
   "id": "2fe9a880-9605-4a8c-bd90-1da588980ea4",
   "metadata": {},
   "outputs": [
    {
     "data": {
      "text/plain": [
       "tensor([[1., 1., 1., 1.],\n",
       "        [1., 1., 1., 1.],\n",
       "        [1., 1., 1., 1.]])"
      ]
     },
     "execution_count": 21,
     "metadata": {},
     "output_type": "execute_result"
    }
   ],
   "source": [
    "# Create a tensor of all ones\n",
    "ones = torch.ones(size=(3, 4))\n",
    "ones"
   ]
  },
  {
   "cell_type": "markdown",
   "id": "27b3a316-70a1-4dbd-aa93-ed5fbdbfe60d",
   "metadata": {},
   "source": [
    "# Range of tensors and tensors-like\n",
    "https://pytorch.org/docs/2.1/generated/torch.arange.html#torch-arange"
   ]
  },
  {
   "cell_type": "code",
   "execution_count": 22,
   "id": "8f91966f-817c-4987-8afc-69edda9b5ea8",
   "metadata": {},
   "outputs": [
    {
     "data": {
      "text/plain": [
       "tensor([0, 1, 2, 3, 4, 5, 6, 7, 8, 9])"
      ]
     },
     "execution_count": 22,
     "metadata": {},
     "output_type": "execute_result"
    }
   ],
   "source": [
    "zero_to_ten = torch.arange(0, 10)\n",
    "zero_to_ten"
   ]
  },
  {
   "cell_type": "code",
   "execution_count": 23,
   "id": "e803af6b-2bd1-43f9-9d88-fa22d4c31889",
   "metadata": {},
   "outputs": [
    {
     "data": {
      "text/plain": [
       "tensor([ 1,  2,  3,  4,  5,  6,  7,  8,  9, 10])"
      ]
     },
     "execution_count": 23,
     "metadata": {},
     "output_type": "execute_result"
    }
   ],
   "source": [
    "one_to_ten = torch.arange(1, 11)\n",
    "one_to_ten"
   ]
  },
  {
   "cell_type": "code",
   "execution_count": 24,
   "id": "285e8432-2644-4bc1-8857-12517fc33c0e",
   "metadata": {},
   "outputs": [
    {
     "data": {
      "text/plain": [
       "tensor([  0,  77, 154, 231, 308, 385, 462, 539, 616, 693, 770, 847, 924])"
      ]
     },
     "execution_count": 24,
     "metadata": {},
     "output_type": "execute_result"
    }
   ],
   "source": [
    "# range with steps\n",
    "range_with_steps = torch.arange(start=0, end=1000, step=77)\n",
    "range_with_steps"
   ]
  },
  {
   "cell_type": "code",
   "execution_count": 25,
   "id": "c81ef335-d708-4799-b160-e28b400ebdd7",
   "metadata": {},
   "outputs": [
    {
     "data": {
      "text/plain": [
       "tensor([0, 0, 0, 0, 0, 0, 0, 0, 0, 0])"
      ]
     },
     "execution_count": 25,
     "metadata": {},
     "output_type": "execute_result"
    }
   ],
   "source": [
    "# Creating tensors like\n",
    "ten_zeros = torch.zeros_like(input=one_to_ten)\n",
    "ten_zeros"
   ]
  },
  {
   "cell_type": "markdown",
   "id": "f583e0ac-73b2-418a-b43f-32e137cbf7db",
   "metadata": {},
   "source": [
    "# TENSOR datatypes\n",
    "https://pytorch.org/docs/2.1/tensors.html\n",
    "\n",
    "torch.rand()\n",
    "\n",
    "https://pytorch.org/docs/stable/generated/torch.rand.html#torch-rand\n",
    "\n",
    "torch.randint()\n",
    "\n",
    "https://pytorch.org/docs/stable/generated/torch.randint.html#torch-randint\n",
    "\n",
    "Tensor datatypes is one of the 3 big errors you'll run into with PyTorch & deep learning:\n",
    "1. Tensors not right datatype\n",
    "2. Tensors not right shape\n",
    "3. Tensors not on the right device"
   ]
  },
  {
   "cell_type": "code",
   "execution_count": 26,
   "id": "f47feb33-4acf-449d-870b-aa66313ad79d",
   "metadata": {},
   "outputs": [],
   "source": [
    "float_16_tensor = torch.rand(size = (3, 3, 3),\n",
    "                            dtype = torch.float16,\n",
    "                            device = 'cuda')\n",
    "\n",
    "# float32 is default, which is why it doesn't get written\n",
    "float_32_tensor = torch.rand(size = (3, 3, 3),\n",
    "                             device = 'cuda')\n",
    "\n",
    "float_64_tensor = torch.rand(size = (3, 3, 3),\n",
    "                            dtype = torch.float64,\n",
    "                            device = 'cuda')\n",
    "\n",
    "int_16_tensor = torch.randint(high = 10,\n",
    "                              size = (3, 3, 3),\n",
    "                              dtype = torch.int16,\n",
    "                              device = 'cuda')\n",
    "\n",
    "int_32_tensor = torch.randint(high = 10,\n",
    "                              size = (3, 3, 3),\n",
    "                              dtype = torch.int32,\n",
    "                              device = 'cuda')\n",
    "\n",
    "int_64_tensor = torch.randint(high = 10,\n",
    "                              size = (3, 3, 3),\n",
    "                              dtype = torch.int64,\n",
    "                              device = 'cuda')"
   ]
  },
  {
   "cell_type": "code",
   "execution_count": 27,
   "id": "a469d5bc-d6d5-473e-b5b2-0b0545948a13",
   "metadata": {},
   "outputs": [
    {
     "data": {
      "text/plain": [
       "tensor([[[1, 0, 1],\n",
       "         [0, 3, 9],\n",
       "         [9, 7, 3]],\n",
       "\n",
       "        [[0, 0, 9],\n",
       "         [4, 8, 4],\n",
       "         [7, 1, 6]],\n",
       "\n",
       "        [[8, 2, 5],\n",
       "         [6, 5, 6],\n",
       "         [6, 0, 0]]], device='cuda:0')"
      ]
     },
     "execution_count": 27,
     "metadata": {},
     "output_type": "execute_result"
    }
   ],
   "source": [
    "int_64_tensor"
   ]
  },
  {
   "cell_type": "markdown",
   "id": "beaa679d-5fac-480b-8123-8be5f57d6af4",
   "metadata": {},
   "source": [
    "## Convert datatypes"
   ]
  },
  {
   "cell_type": "code",
   "execution_count": 28,
   "id": "87a1c76b-1222-4320-a4aa-b50466eb692b",
   "metadata": {},
   "outputs": [
    {
     "data": {
      "text/plain": [
       "torch.int32"
      ]
     },
     "execution_count": 28,
     "metadata": {},
     "output_type": "execute_result"
    }
   ],
   "source": [
    "int_32_tensor.dtype"
   ]
  },
  {
   "cell_type": "code",
   "execution_count": 29,
   "id": "00708968-09ae-4a93-864a-5e0a7b98f7af",
   "metadata": {},
   "outputs": [
    {
     "data": {
      "text/plain": [
       "torch.float32"
      ]
     },
     "execution_count": 29,
     "metadata": {},
     "output_type": "execute_result"
    }
   ],
   "source": [
    "# int32 -> float32\n",
    "int_32_tensor.type(torch.float32).dtype"
   ]
  },
  {
   "cell_type": "code",
   "execution_count": 30,
   "id": "62d44e45-f583-4ff9-bcec-b5ad52723893",
   "metadata": {},
   "outputs": [
    {
     "data": {
      "text/plain": [
       "torch.float32"
      ]
     },
     "execution_count": 30,
     "metadata": {},
     "output_type": "execute_result"
    }
   ],
   "source": [
    "float_32_tensor.dtype"
   ]
  },
  {
   "cell_type": "code",
   "execution_count": 31,
   "id": "aaf02b7e-438d-4c5e-85ca-9f6e4d1524fd",
   "metadata": {},
   "outputs": [
    {
     "data": {
      "text/plain": [
       "torch.int32"
      ]
     },
     "execution_count": 31,
     "metadata": {},
     "output_type": "execute_result"
    }
   ],
   "source": [
    "# float32 -> int32\n",
    "float_32_tensor.type(torch.int32).dtype"
   ]
  },
  {
   "cell_type": "markdown",
   "id": "8164fa17-bddd-445c-a7af-30e11bd59fe2",
   "metadata": {},
   "source": [
    "# TENSOR attributes\n",
    "\n",
    "1. datatype - `tensor.dtype`\n",
    "2. shape - `tensor.shape`\n",
    "3. device - `tensor.device`"
   ]
  },
  {
   "cell_type": "code",
   "execution_count": 32,
   "id": "a4424d69-951b-4232-b920-56f13ff33fdf",
   "metadata": {},
   "outputs": [
    {
     "name": "stdout",
     "output_type": "stream",
     "text": [
      "Datatype of tensor: torch.int64\n",
      "Shape of tensor: torch.Size([3, 3, 3])\n",
      "Device of tensor: cuda:0\n"
     ]
    }
   ],
   "source": [
    "print(f\"Datatype of tensor: {int_64_tensor.dtype}\")\n",
    "print(f\"Shape of tensor: {int_64_tensor.shape}\")\n",
    "print(f\"Device of tensor: {int_64_tensor.device}\")"
   ]
  },
  {
   "cell_type": "markdown",
   "id": "3dc39193-4b10-4bbe-ae34-4c414cf6c7d9",
   "metadata": {},
   "source": [
    "# TENSOR operations\n",
    "\n",
    "Basic:\n",
    "\n",
    "! ACHTUNG !\n",
    "\n",
    "The dims of the tensors must match.\n",
    "\n",
    "🚫 - ([1, 2, 3]) + ([1, 2])\n",
    "\n",
    "✅ - ([1, 2, 3]) + ([1, 2, 3])\n",
    "\n",
    "* Addition\n",
    "* Subtraction\n",
    "* Multiplication (element-wise)\n",
    "* Division\n",
    "\n",
    "Advanced:\n",
    "  \n",
    "* Matrix multiplication (dot product)"
   ]
  },
  {
   "cell_type": "markdown",
   "id": "b9f22fd3-d853-4992-b107-539fa348fed5",
   "metadata": {},
   "source": [
    "## Basic"
   ]
  },
  {
   "cell_type": "code",
   "execution_count": 33,
   "id": "39fa85cb-56f7-42bc-9fed-63f8132d2f9e",
   "metadata": {},
   "outputs": [],
   "source": [
    "subj1 = torch.tensor([1, 2, 3])\n",
    "subj2 = torch.tensor([3, 4, 5])"
   ]
  },
  {
   "cell_type": "code",
   "execution_count": 34,
   "id": "c64445b6-0e7c-4099-b41c-4b9060fc4f56",
   "metadata": {},
   "outputs": [
    {
     "data": {
      "text/plain": [
       "tensor([11, 12, 13])"
      ]
     },
     "execution_count": 34,
     "metadata": {},
     "output_type": "execute_result"
    }
   ],
   "source": [
    "subj1 + 10"
   ]
  },
  {
   "cell_type": "code",
   "execution_count": 35,
   "id": "8bd4f815-f5ed-4d2b-ae77-498f505351a6",
   "metadata": {},
   "outputs": [
    {
     "data": {
      "text/plain": [
       "tensor([4, 6, 8])"
      ]
     },
     "execution_count": 35,
     "metadata": {},
     "output_type": "execute_result"
    }
   ],
   "source": [
    "subj1 + subj2"
   ]
  },
  {
   "cell_type": "code",
   "execution_count": 36,
   "id": "830fa18a-2e48-41db-8b83-0548d6eb642f",
   "metadata": {},
   "outputs": [
    {
     "data": {
      "text/plain": [
       "tensor([-9, -8, -7])"
      ]
     },
     "execution_count": 36,
     "metadata": {},
     "output_type": "execute_result"
    }
   ],
   "source": [
    "subj1 - 10"
   ]
  },
  {
   "cell_type": "code",
   "execution_count": 37,
   "id": "cc2b1266-9366-4a9a-acd5-a763c5e21b3e",
   "metadata": {},
   "outputs": [
    {
     "data": {
      "text/plain": [
       "tensor([-2, -2, -2])"
      ]
     },
     "execution_count": 37,
     "metadata": {},
     "output_type": "execute_result"
    }
   ],
   "source": [
    "subj1 - subj2"
   ]
  },
  {
   "cell_type": "code",
   "execution_count": 38,
   "id": "5f88efad-952d-40df-8710-ea0966c66ffa",
   "metadata": {},
   "outputs": [
    {
     "data": {
      "text/plain": [
       "tensor([10, 20, 30])"
      ]
     },
     "execution_count": 38,
     "metadata": {},
     "output_type": "execute_result"
    }
   ],
   "source": [
    "subj1 * 10"
   ]
  },
  {
   "cell_type": "code",
   "execution_count": 39,
   "id": "0eb18edb-5f69-4419-b522-83bd3e2ede0a",
   "metadata": {},
   "outputs": [
    {
     "data": {
      "text/plain": [
       "tensor([ 3,  8, 15])"
      ]
     },
     "execution_count": 39,
     "metadata": {},
     "output_type": "execute_result"
    }
   ],
   "source": [
    "subj1 * subj2"
   ]
  },
  {
   "cell_type": "code",
   "execution_count": 40,
   "id": "a603e5c7-c99f-4c0a-b645-c9422a63139c",
   "metadata": {},
   "outputs": [
    {
     "data": {
      "text/plain": [
       "tensor([0.1000, 0.2000, 0.3000])"
      ]
     },
     "execution_count": 40,
     "metadata": {},
     "output_type": "execute_result"
    }
   ],
   "source": [
    "subj1 / 10"
   ]
  },
  {
   "cell_type": "code",
   "execution_count": 41,
   "id": "58f9a4e6-7ed3-439e-9201-674667622011",
   "metadata": {},
   "outputs": [
    {
     "data": {
      "text/plain": [
       "tensor([0.3333, 0.5000, 0.6000])"
      ]
     },
     "execution_count": 41,
     "metadata": {},
     "output_type": "execute_result"
    }
   ],
   "source": [
    "subj1 / subj2"
   ]
  },
  {
   "cell_type": "markdown",
   "id": "275bde1b-0d22-4a64-90ae-ec9ec55970f6",
   "metadata": {},
   "source": [
    "## Advanced - MATRIX multiplication (dot product)\n",
    "http://matrixmultiplication.xyz/\n",
    "\n",
    "Rules:\n",
    "1. Inner dimensions must match\n",
    "\n",
    "torch.Size([2, 3]) and torch.Size([3, 2])\n",
    "\n",
    "3 and 3 are matching\n",
    "\n",
    "<img src=\"../pycharm/images/0-2.png\">\n",
    "\n",
    "2. The resulting matrix has the shape of the outer dimensions"
   ]
  },
  {
   "cell_type": "code",
   "execution_count": 42,
   "id": "47b218e1-e2e1-4efa-8e92-91f894c178e0",
   "metadata": {},
   "outputs": [],
   "source": [
    "M1 = torch.tensor([[1, 2, 3],\n",
    "                   [4, 5, 6]])\n",
    "M2 = torch.tensor([[7, 8],\n",
    "                   [9, 10],\n",
    "                   [11, 12]])"
   ]
  },
  {
   "cell_type": "code",
   "execution_count": 43,
   "id": "2f52bad0-3ba2-4ac6-a6d6-5043255a6486",
   "metadata": {},
   "outputs": [
    {
     "name": "stdout",
     "output_type": "stream",
     "text": [
      "CPU times: user 984 µs, sys: 146 µs, total: 1.13 ms\n",
      "Wall time: 10.3 ms\n"
     ]
    },
    {
     "data": {
      "text/plain": [
       "tensor([[ 58,  64],\n",
       "        [139, 154]])"
      ]
     },
     "execution_count": 43,
     "metadata": {},
     "output_type": "execute_result"
    }
   ],
   "source": [
    "%%time\n",
    "torch.matmul(M1, M2)"
   ]
  },
  {
   "cell_type": "markdown",
   "id": "b5f56caa-5d92-4ddd-b304-26bb0a262915",
   "metadata": {},
   "source": [
    "<img src=\"../pycharm/images/0-1.png\">"
   ]
  },
  {
   "cell_type": "code",
   "execution_count": 44,
   "id": "a90727ce-8795-4769-9306-3f4d29362d09",
   "metadata": {},
   "outputs": [
    {
     "data": {
      "text/plain": [
       "torch.Size([3, 2])"
      ]
     },
     "execution_count": 44,
     "metadata": {},
     "output_type": "execute_result"
    }
   ],
   "source": [
    "M2.shape"
   ]
  },
  {
   "cell_type": "markdown",
   "id": "405a2a09-b4cf-44ae-bc91-2130943a54e7",
   "metadata": {},
   "source": [
    "# TENSORs transpose\n",
    "Transpose switches the axes or dimensions of a given tensor.\n",
    "\n",
    "<img src=\"../pycharm/images/0-3.gif\">"
   ]
  },
  {
   "cell_type": "code",
   "execution_count": 45,
   "id": "3367ae7e-3dbb-468a-bbaf-a7576f542964",
   "metadata": {},
   "outputs": [],
   "source": [
    "T1 = torch.tensor([[1, 2],\n",
    "                   [3, 4],\n",
    "                   [5, 6]])\n",
    "T2 = torch.tensor([[7, 10],\n",
    "                   [8, 11],\n",
    "                   [9, 12]])"
   ]
  },
  {
   "cell_type": "code",
   "execution_count": 46,
   "id": "89f06612-dbdb-4d1d-a377-12afbce7744f",
   "metadata": {},
   "outputs": [
    {
     "data": {
      "text/plain": [
       "tensor([[ 7,  8,  9],\n",
       "        [10, 11, 12]])"
      ]
     },
     "execution_count": 46,
     "metadata": {},
     "output_type": "execute_result"
    }
   ],
   "source": [
    "T2.T"
   ]
  },
  {
   "cell_type": "code",
   "execution_count": 47,
   "id": "ee5d93df-8e9b-43c9-9576-351a27b95c12",
   "metadata": {},
   "outputs": [
    {
     "data": {
      "text/plain": [
       "torch.Size([2, 3])"
      ]
     },
     "execution_count": 47,
     "metadata": {},
     "output_type": "execute_result"
    }
   ],
   "source": [
    "T2.T.shape"
   ]
  },
  {
   "cell_type": "code",
   "execution_count": 48,
   "id": "6645ea35-0f82-4dfa-8672-749bdd11ba48",
   "metadata": {},
   "outputs": [
    {
     "data": {
      "text/plain": [
       "tensor([[ 27,  30,  33],\n",
       "        [ 61,  68,  75],\n",
       "        [ 95, 106, 117]])"
      ]
     },
     "execution_count": 48,
     "metadata": {},
     "output_type": "execute_result"
    }
   ],
   "source": [
    "torch.matmul(T1, T2.T)"
   ]
  },
  {
   "cell_type": "code",
   "execution_count": 49,
   "id": "dfdd64e0-bbfb-48cf-bca9-3f2dae3ec4f1",
   "metadata": {},
   "outputs": [
    {
     "data": {
      "text/plain": [
       "torch.Size([3, 3])"
      ]
     },
     "execution_count": 49,
     "metadata": {},
     "output_type": "execute_result"
    }
   ],
   "source": [
    "torch.matmul(T1, T2.T).shape"
   ]
  },
  {
   "cell_type": "code",
   "execution_count": 50,
   "id": "b5fdf792-41be-41bf-8b7e-71fffa860534",
   "metadata": {},
   "outputs": [
    {
     "data": {
      "text/plain": [
       "tensor([[ 76, 103],\n",
       "        [100, 136]])"
      ]
     },
     "execution_count": 50,
     "metadata": {},
     "output_type": "execute_result"
    }
   ],
   "source": [
    "torch.matmul(T1.T, T2)"
   ]
  },
  {
   "cell_type": "code",
   "execution_count": 51,
   "id": "45750426-d18e-45a9-a49f-3ebd15b05c87",
   "metadata": {},
   "outputs": [
    {
     "data": {
      "text/plain": [
       "torch.Size([2, 2])"
      ]
     },
     "execution_count": 51,
     "metadata": {},
     "output_type": "execute_result"
    }
   ],
   "source": [
    "torch.matmul(T1.T, T2).shape"
   ]
  },
  {
   "cell_type": "markdown",
   "id": "8e61dcaa-a2b0-4a8d-8d3b-15dcf2469335",
   "metadata": {},
   "source": [
    "# TENSOR aggregation"
   ]
  },
  {
   "cell_type": "code",
   "execution_count": 52,
   "id": "76681a35-d14f-471e-9a65-fc4118820aa0",
   "metadata": {},
   "outputs": [
    {
     "data": {
      "text/plain": [
       "tensor([ 0, 10, 20, 30, 40, 50, 60, 70, 80, 90])"
      ]
     },
     "execution_count": 52,
     "metadata": {},
     "output_type": "execute_result"
    }
   ],
   "source": [
    "x = torch.arange(0, 100, 10)\n",
    "x"
   ]
  },
  {
   "cell_type": "markdown",
   "id": "fbcf976f-9779-45b4-9107-4ffbbc60dd42",
   "metadata": {},
   "source": [
    "## Min"
   ]
  },
  {
   "cell_type": "code",
   "execution_count": 53,
   "id": "06764059-08d7-4746-a121-c8514a525229",
   "metadata": {},
   "outputs": [
    {
     "data": {
      "text/plain": [
       "tensor(0)"
      ]
     },
     "execution_count": 53,
     "metadata": {},
     "output_type": "execute_result"
    }
   ],
   "source": [
    "torch.min(x)"
   ]
  },
  {
   "cell_type": "markdown",
   "id": "427df0c4-97fe-47cf-8137-4c39ee336605",
   "metadata": {},
   "source": [
    "## Max"
   ]
  },
  {
   "cell_type": "code",
   "execution_count": 54,
   "id": "0c75713f-fe15-4ab7-8567-c506f1311017",
   "metadata": {},
   "outputs": [
    {
     "data": {
      "text/plain": [
       "tensor(90)"
      ]
     },
     "execution_count": 54,
     "metadata": {},
     "output_type": "execute_result"
    }
   ],
   "source": [
    "torch.max(x)"
   ]
  },
  {
   "cell_type": "markdown",
   "id": "a3ef1ec0-9bb8-4012-b84f-83c92a628115",
   "metadata": {},
   "source": [
    "## Mean (only float)"
   ]
  },
  {
   "cell_type": "code",
   "execution_count": 55,
   "id": "37c2cc94-f4c7-4183-9417-9b60c836843d",
   "metadata": {},
   "outputs": [
    {
     "data": {
      "text/plain": [
       "tensor(45.)"
      ]
     },
     "execution_count": 55,
     "metadata": {},
     "output_type": "execute_result"
    }
   ],
   "source": [
    "torch.mean(x.type(torch.float32))"
   ]
  },
  {
   "cell_type": "markdown",
   "id": "733d2247-dea7-4333-bb96-be3e9b6f8337",
   "metadata": {},
   "source": [
    "## Sum"
   ]
  },
  {
   "cell_type": "code",
   "execution_count": 56,
   "id": "97600f10-3dbb-48a5-b125-1c130f53bf0f",
   "metadata": {},
   "outputs": [
    {
     "data": {
      "text/plain": [
       "tensor(450)"
      ]
     },
     "execution_count": 56,
     "metadata": {},
     "output_type": "execute_result"
    }
   ],
   "source": [
    "torch.sum(x)"
   ]
  },
  {
   "cell_type": "markdown",
   "id": "53c82cb0-4105-4e68-8c09-56942e27ccb4",
   "metadata": {},
   "source": [
    "## Argmin"
   ]
  },
  {
   "cell_type": "code",
   "execution_count": 57,
   "id": "050bbbf1-aac8-449c-8759-b0d7d3c3bd18",
   "metadata": {},
   "outputs": [
    {
     "data": {
      "text/plain": [
       "tensor(0)"
      ]
     },
     "execution_count": 57,
     "metadata": {},
     "output_type": "execute_result"
    }
   ],
   "source": [
    "# position of element with minimal value of given tensor\n",
    "# position are counted from zero\n",
    "torch.argmin(x)"
   ]
  },
  {
   "cell_type": "markdown",
   "id": "9f0de4f6-e4b4-4485-a6ec-eea851818492",
   "metadata": {},
   "source": [
    "## Argmax"
   ]
  },
  {
   "cell_type": "code",
   "execution_count": 58,
   "id": "7b96e4a5-be22-45c7-a0b4-b141b3d64a4f",
   "metadata": {},
   "outputs": [
    {
     "data": {
      "text/plain": [
       "tensor(9)"
      ]
     },
     "execution_count": 58,
     "metadata": {},
     "output_type": "execute_result"
    }
   ],
   "source": [
    "# position of element with minimal value of given tensor\n",
    "# position are counted from zero\n",
    "torch.argmax(x)"
   ]
  },
  {
   "cell_type": "markdown",
   "id": "620b812b-23d2-4078-910c-484ef00e1877",
   "metadata": {},
   "source": [
    "# Reshaping, viewing, stacking, squeezing, unsqueezing and permuting tensors\n",
    "\n",
    "* Reshaping - reshapes an input tensor to a defined shape\n",
    "* View - return a view of an input tensor of certain shape but keep the same memory as the original tensor\n",
    "* Stacking - combine multiple tensors on top of each other (vstack) or side by side (hstack)\n",
    "* Squeeze - removes all `1` dimensions from a tensor\n",
    "* Unsqueeze - add a `1` dimensions to a target tensor\n",
    "* Permute - return a view of the input with dimensions (swapped) in a certain way"
   ]
  },
  {
   "cell_type": "code",
   "execution_count": 59,
   "id": "306aeda7-8292-4d56-b478-0b4a7d148035",
   "metadata": {},
   "outputs": [
    {
     "data": {
      "text/plain": [
       "tensor([1., 2., 3., 4., 5., 6., 7., 8., 9.])"
      ]
     },
     "execution_count": 59,
     "metadata": {},
     "output_type": "execute_result"
    }
   ],
   "source": [
    "x = torch.arange(1., 10.)\n",
    "x"
   ]
  },
  {
   "cell_type": "code",
   "execution_count": 60,
   "id": "21daeb82-759c-4309-b8ec-090d6c4c961a",
   "metadata": {},
   "outputs": [
    {
     "data": {
      "text/plain": [
       "torch.Size([9])"
      ]
     },
     "execution_count": 60,
     "metadata": {},
     "output_type": "execute_result"
    }
   ],
   "source": [
    "x.shape"
   ]
  },
  {
   "cell_type": "markdown",
   "id": "3b1805f9-f573-471c-8cc0-9a3dd7112c1b",
   "metadata": {},
   "source": [
    "## Reshape\n",
    "\n",
    "It will work if the multiplication is always 9\n",
    "\n",
    "`torch.Size([3, 3])` - 3 * 3 = 9\n",
    "\n",
    "`torch.Size([9, 1])` - 9 * 1 = 9\n",
    "\n",
    "`torch.Size([3, 3, 1])` - 3 * 3 * 1 = 9"
   ]
  },
  {
   "cell_type": "code",
   "execution_count": 61,
   "id": "58050678-10d3-40ce-b325-79d0fec85ab7",
   "metadata": {},
   "outputs": [
    {
     "data": {
      "text/plain": [
       "tensor([[1., 2., 3.],\n",
       "        [4., 5., 6.],\n",
       "        [7., 8., 9.]])"
      ]
     },
     "execution_count": 61,
     "metadata": {},
     "output_type": "execute_result"
    }
   ],
   "source": [
    "x_reshaped1 = x.reshape(3, 3)\n",
    "x_reshaped1"
   ]
  },
  {
   "cell_type": "code",
   "execution_count": 62,
   "id": "d7137fcb-9261-40b2-9655-ee2ff555cfe5",
   "metadata": {},
   "outputs": [
    {
     "data": {
      "text/plain": [
       "tensor([[1.],\n",
       "        [2.],\n",
       "        [3.],\n",
       "        [4.],\n",
       "        [5.],\n",
       "        [6.],\n",
       "        [7.],\n",
       "        [8.],\n",
       "        [9.]])"
      ]
     },
     "execution_count": 62,
     "metadata": {},
     "output_type": "execute_result"
    }
   ],
   "source": [
    "x_reshaped2 = x.reshape(9, 1)\n",
    "x_reshaped2"
   ]
  },
  {
   "cell_type": "code",
   "execution_count": 63,
   "id": "7335b2be-eb71-4b63-b275-1fb3ef7e9646",
   "metadata": {},
   "outputs": [
    {
     "data": {
      "text/plain": [
       "tensor([[[1.],\n",
       "         [2.],\n",
       "         [3.]],\n",
       "\n",
       "        [[4.],\n",
       "         [5.],\n",
       "         [6.]],\n",
       "\n",
       "        [[7.],\n",
       "         [8.],\n",
       "         [9.]]])"
      ]
     },
     "execution_count": 63,
     "metadata": {},
     "output_type": "execute_result"
    }
   ],
   "source": [
    "x_reshaped2 = x.reshape(3, 3, 1)\n",
    "x_reshaped2"
   ]
  },
  {
   "cell_type": "markdown",
   "id": "ffc2028a-0e31-4d4d-ba72-6af3f6f38b48",
   "metadata": {},
   "source": [
    "## View\n",
    "Changing z changes x (because a view of a tensor shares the same memory as the original)\n"
   ]
  },
  {
   "cell_type": "code",
   "execution_count": 64,
   "id": "c439c4f9-381a-4128-a6f8-f33076bc6b69",
   "metadata": {},
   "outputs": [
    {
     "data": {
      "text/plain": [
       "tensor([[[1.],\n",
       "         [2.],\n",
       "         [3.]],\n",
       "\n",
       "        [[4.],\n",
       "         [5.],\n",
       "         [6.]],\n",
       "\n",
       "        [[7.],\n",
       "         [8.],\n",
       "         [9.]]])"
      ]
     },
     "execution_count": 64,
     "metadata": {},
     "output_type": "execute_result"
    }
   ],
   "source": [
    "z = x.view(3, 3, 1)\n",
    "z"
   ]
  },
  {
   "cell_type": "code",
   "execution_count": 65,
   "id": "a280ddd2-74d5-4170-bdf5-a816d4a97f89",
   "metadata": {},
   "outputs": [
    {
     "data": {
      "text/plain": [
       "torch.Size([3, 3, 1])"
      ]
     },
     "execution_count": 65,
     "metadata": {},
     "output_type": "execute_result"
    }
   ],
   "source": [
    "z.shape"
   ]
  },
  {
   "cell_type": "markdown",
   "id": "82fad5d2-68e6-4727-a829-f0c257742f68",
   "metadata": {},
   "source": [
    "## Stack\n",
    "Stack tensors on top of each other "
   ]
  },
  {
   "cell_type": "code",
   "execution_count": 66,
   "id": "1bc46c49-ad2a-49e2-a633-356934e2e7bb",
   "metadata": {},
   "outputs": [
    {
     "data": {
      "text/plain": [
       "tensor([[1., 2., 3., 4., 5., 6., 7., 8., 9.],\n",
       "        [1., 2., 3., 4., 5., 6., 7., 8., 9.],\n",
       "        [1., 2., 3., 4., 5., 6., 7., 8., 9.],\n",
       "        [1., 2., 3., 4., 5., 6., 7., 8., 9.]])"
      ]
     },
     "execution_count": 66,
     "metadata": {},
     "output_type": "execute_result"
    }
   ],
   "source": [
    "x_stacked = torch.stack([x, x, x, x], dim=0)\n",
    "x_stacked"
   ]
  },
  {
   "cell_type": "code",
   "execution_count": 67,
   "id": "fbf8870b-e410-436c-9cc1-555fd0d633da",
   "metadata": {},
   "outputs": [
    {
     "data": {
      "text/plain": [
       "tensor([[1., 1., 1., 1.],\n",
       "        [2., 2., 2., 2.],\n",
       "        [3., 3., 3., 3.],\n",
       "        [4., 4., 4., 4.],\n",
       "        [5., 5., 5., 5.],\n",
       "        [6., 6., 6., 6.],\n",
       "        [7., 7., 7., 7.],\n",
       "        [8., 8., 8., 8.],\n",
       "        [9., 9., 9., 9.]])"
      ]
     },
     "execution_count": 67,
     "metadata": {},
     "output_type": "execute_result"
    }
   ],
   "source": [
    "x_stacked = torch.stack([x, x, x, x], dim=1)\n",
    "x_stacked"
   ]
  },
  {
   "cell_type": "markdown",
   "id": "9544cf1b-08c6-4b2b-ace8-65843068d064",
   "metadata": {},
   "source": [
    "## Squeezing"
   ]
  },
  {
   "cell_type": "code",
   "execution_count": 68,
   "id": "91e74116-02d6-43d1-9841-7376380cb663",
   "metadata": {},
   "outputs": [
    {
     "data": {
      "text/plain": [
       "tensor([[[[1.]],\n",
       "\n",
       "         [[2.]],\n",
       "\n",
       "         [[3.]]],\n",
       "\n",
       "\n",
       "        [[[4.]],\n",
       "\n",
       "         [[5.]],\n",
       "\n",
       "         [[6.]]],\n",
       "\n",
       "\n",
       "        [[[7.]],\n",
       "\n",
       "         [[8.]],\n",
       "\n",
       "         [[9.]]]])"
      ]
     },
     "execution_count": 68,
     "metadata": {},
     "output_type": "execute_result"
    }
   ],
   "source": [
    "x_reshaped4 = x.reshape(3, 3, 1, 1)\n",
    "x_reshaped4"
   ]
  },
  {
   "cell_type": "code",
   "execution_count": 69,
   "id": "1d0e6b35-44e9-498a-85a3-34c8b38387d0",
   "metadata": {},
   "outputs": [
    {
     "data": {
      "text/plain": [
       "torch.Size([3, 3, 1, 1])"
      ]
     },
     "execution_count": 69,
     "metadata": {},
     "output_type": "execute_result"
    }
   ],
   "source": [
    "x_reshaped4.shape"
   ]
  },
  {
   "cell_type": "code",
   "execution_count": 70,
   "id": "a0d7bdfc-6804-48d8-91f6-543fc8213c2a",
   "metadata": {},
   "outputs": [],
   "source": [
    "x_squeezed = x_reshaped4.squeeze()"
   ]
  },
  {
   "cell_type": "code",
   "execution_count": 71,
   "id": "b9475d27-8a3a-4c53-8ada-96b640c05781",
   "metadata": {},
   "outputs": [
    {
     "data": {
      "text/plain": [
       "torch.Size([3, 3])"
      ]
     },
     "execution_count": 71,
     "metadata": {},
     "output_type": "execute_result"
    }
   ],
   "source": [
    "# Removed all ones\n",
    "x_squeezed.shape"
   ]
  },
  {
   "cell_type": "markdown",
   "id": "0881ad27-0d96-4fa4-90ec-a1898f27ebf5",
   "metadata": {},
   "source": [
    "## Unsqueezing"
   ]
  },
  {
   "cell_type": "code",
   "execution_count": 72,
   "id": "7eaa8b48-c5bd-42b9-9ac7-4b6720d71c97",
   "metadata": {},
   "outputs": [
    {
     "data": {
      "text/plain": [
       "tensor([[[1., 2., 3.],\n",
       "         [4., 5., 6.],\n",
       "         [7., 8., 9.]]])"
      ]
     },
     "execution_count": 72,
     "metadata": {},
     "output_type": "execute_result"
    }
   ],
   "source": [
    "x_unsqueezed0 = x_squeezed.unsqueeze(dim=0)\n",
    "x_unsqueezed0"
   ]
  },
  {
   "cell_type": "code",
   "execution_count": 73,
   "id": "07dccaec-bd21-430f-81b8-fcb037307008",
   "metadata": {},
   "outputs": [
    {
     "data": {
      "text/plain": [
       "torch.Size([1, 3, 3])"
      ]
     },
     "execution_count": 73,
     "metadata": {},
     "output_type": "execute_result"
    }
   ],
   "source": [
    "x_unsqueezed0.shape"
   ]
  },
  {
   "cell_type": "code",
   "execution_count": 74,
   "id": "58281068-08ef-405f-89dc-14360b52d1ea",
   "metadata": {},
   "outputs": [
    {
     "data": {
      "text/plain": [
       "tensor([[[1., 2., 3.]],\n",
       "\n",
       "        [[4., 5., 6.]],\n",
       "\n",
       "        [[7., 8., 9.]]])"
      ]
     },
     "execution_count": 74,
     "metadata": {},
     "output_type": "execute_result"
    }
   ],
   "source": [
    "x_unsqueezed1 = x_squeezed.unsqueeze(dim=1)\n",
    "x_unsqueezed1"
   ]
  },
  {
   "cell_type": "code",
   "execution_count": 75,
   "id": "1f142814-7a59-4b55-ab1c-4f1dfb4b4c89",
   "metadata": {},
   "outputs": [
    {
     "data": {
      "text/plain": [
       "torch.Size([3, 1, 3])"
      ]
     },
     "execution_count": 75,
     "metadata": {},
     "output_type": "execute_result"
    }
   ],
   "source": [
    "x_unsqueezed1.shape"
   ]
  },
  {
   "cell_type": "code",
   "execution_count": 76,
   "id": "83c4e4e3-6d5e-4b18-b4c8-3ef782eb515d",
   "metadata": {},
   "outputs": [
    {
     "data": {
      "text/plain": [
       "tensor([[[1.],\n",
       "         [2.],\n",
       "         [3.]],\n",
       "\n",
       "        [[4.],\n",
       "         [5.],\n",
       "         [6.]],\n",
       "\n",
       "        [[7.],\n",
       "         [8.],\n",
       "         [9.]]])"
      ]
     },
     "execution_count": 76,
     "metadata": {},
     "output_type": "execute_result"
    }
   ],
   "source": [
    "x_unsqueezed2 = x_squeezed.unsqueeze(dim=2)\n",
    "x_unsqueezed2"
   ]
  },
  {
   "cell_type": "code",
   "execution_count": 77,
   "id": "ad919b74-f9bb-458f-b2a5-fc7d4af608e5",
   "metadata": {},
   "outputs": [
    {
     "data": {
      "text/plain": [
       "torch.Size([3, 3, 1])"
      ]
     },
     "execution_count": 77,
     "metadata": {},
     "output_type": "execute_result"
    }
   ],
   "source": [
    "x_unsqueezed2.shape"
   ]
  },
  {
   "cell_type": "markdown",
   "id": "a023c4b9-a87a-4ac8-b614-b4d93558bb10",
   "metadata": {},
   "source": [
    "## Permute"
   ]
  },
  {
   "cell_type": "code",
   "execution_count": 78,
   "id": "3d162642-ad7d-49db-baf5-6e24d86221c6",
   "metadata": {},
   "outputs": [
    {
     "data": {
      "text/plain": [
       "torch.Size([720, 480, 3])"
      ]
     },
     "execution_count": 78,
     "metadata": {},
     "output_type": "execute_result"
    }
   ],
   "source": [
    "x_picture = torch.rand(size=(720, 480, 3)) # [height, width, colour_channels]\n",
    "x_picture.shape"
   ]
  },
  {
   "cell_type": "code",
   "execution_count": 79,
   "id": "24612c56-1f9a-42b0-a21a-cac7c3acef1b",
   "metadata": {},
   "outputs": [
    {
     "data": {
      "text/plain": [
       "torch.Size([3, 720, 480])"
      ]
     },
     "execution_count": 79,
     "metadata": {},
     "output_type": "execute_result"
    }
   ],
   "source": [
    "x_permuted0 = x_picture.permute(2, 0, 1)\n",
    "x_permuted0.shape"
   ]
  },
  {
   "cell_type": "code",
   "execution_count": 80,
   "id": "ebf4297c-c548-4abf-b8b0-922f4b5a8b55",
   "metadata": {},
   "outputs": [],
   "source": [
    "# How it works:\n",
    "# Moving this dim numbers also moves their values\n",
    "# (0    1    2)\n",
    "# (720, 480, 3)\n",
    "#\n",
    "# So moving like this:\n",
    "# (2  0    1)\n",
    "# Will be look like this:\n",
    "# (3, 720, 480)"
   ]
  },
  {
   "cell_type": "code",
   "execution_count": 81,
   "id": "3e4572bc-340e-4620-be10-659b40668e04",
   "metadata": {},
   "outputs": [
    {
     "data": {
      "text/plain": [
       "torch.Size([480, 720, 3])"
      ]
     },
     "execution_count": 81,
     "metadata": {},
     "output_type": "execute_result"
    }
   ],
   "source": [
    "# Moving like this:\n",
    "# (1    0    2)\n",
    "# Will be like this:\n",
    "# (480, 720, 3)\n",
    "x_permuted1 = x_picture.permute(1, 0, 2)\n",
    "x_permuted1.shape"
   ]
  },
  {
   "cell_type": "markdown",
   "id": "fb1520fe-6a21-4efe-bca1-052936c40ef9",
   "metadata": {},
   "source": [
    "# Indexing\n",
    "Selecting data from tensors"
   ]
  },
  {
   "cell_type": "code",
   "execution_count": 82,
   "id": "505f3675-33b6-49d4-8039-cf0fb4c1bea3",
   "metadata": {},
   "outputs": [
    {
     "data": {
      "text/plain": [
       "tensor([[[1, 2, 3],\n",
       "         [4, 5, 6],\n",
       "         [7, 8, 9]]])"
      ]
     },
     "execution_count": 82,
     "metadata": {},
     "output_type": "execute_result"
    }
   ],
   "source": [
    "x_indexing = torch.arange(1, 10).reshape(1, 3, 3)\n",
    "x_indexing"
   ]
  },
  {
   "cell_type": "code",
   "execution_count": 83,
   "id": "b2b695b5-8bb7-411c-b649-303c13d4db00",
   "metadata": {},
   "outputs": [
    {
     "data": {
      "text/plain": [
       "torch.Size([1, 3, 3])"
      ]
     },
     "execution_count": 83,
     "metadata": {},
     "output_type": "execute_result"
    }
   ],
   "source": [
    "x_indexing.shape"
   ]
  },
  {
   "cell_type": "code",
   "execution_count": 84,
   "id": "16b8e822-1c63-4944-a191-985781cc30d5",
   "metadata": {},
   "outputs": [
    {
     "data": {
      "text/plain": [
       "tensor([[1, 2, 3],\n",
       "        [4, 5, 6],\n",
       "        [7, 8, 9]])"
      ]
     },
     "execution_count": 84,
     "metadata": {},
     "output_type": "execute_result"
    }
   ],
   "source": [
    "x_indexing[0]"
   ]
  },
  {
   "cell_type": "code",
   "execution_count": 85,
   "id": "c4b09e5f-392c-41b8-9f28-6891d3e831c2",
   "metadata": {},
   "outputs": [
    {
     "data": {
      "text/plain": [
       "tensor([4, 5, 6])"
      ]
     },
     "execution_count": 85,
     "metadata": {},
     "output_type": "execute_result"
    }
   ],
   "source": [
    "x_indexing[0][1]"
   ]
  },
  {
   "cell_type": "code",
   "execution_count": 86,
   "id": "73f269c8-4147-4893-9234-bceb70723c1e",
   "metadata": {},
   "outputs": [
    {
     "data": {
      "text/plain": [
       "tensor(8)"
      ]
     },
     "execution_count": 86,
     "metadata": {},
     "output_type": "execute_result"
    }
   ],
   "source": [
    "x_indexing[0][2][1]"
   ]
  },
  {
   "cell_type": "code",
   "execution_count": 87,
   "id": "330fdca4-e72c-4233-9235-4cfae14c34f6",
   "metadata": {},
   "outputs": [
    {
     "data": {
      "text/plain": [
       "tensor([[3, 6, 9]])"
      ]
     },
     "execution_count": 87,
     "metadata": {},
     "output_type": "execute_result"
    }
   ],
   "source": [
    "x_indexing[:, :, 2]"
   ]
  },
  {
   "cell_type": "code",
   "execution_count": 88,
   "id": "b62292f2-1fba-419a-9090-ebb6004f002b",
   "metadata": {},
   "outputs": [
    {
     "data": {
      "text/plain": [
       "tensor([5])"
      ]
     },
     "execution_count": 88,
     "metadata": {},
     "output_type": "execute_result"
    }
   ],
   "source": [
    "x_indexing[:, 1, 1]"
   ]
  },
  {
   "cell_type": "code",
   "execution_count": 89,
   "id": "26713af5-d51d-4962-a7bd-a94f83532c29",
   "metadata": {},
   "outputs": [
    {
     "data": {
      "text/plain": [
       "tensor([1, 2, 3])"
      ]
     },
     "execution_count": 89,
     "metadata": {},
     "output_type": "execute_result"
    }
   ],
   "source": [
    "x_indexing[0, 0, :]"
   ]
  },
  {
   "cell_type": "markdown",
   "id": "3b073781-3bb3-4034-a59a-8923b1f3030c",
   "metadata": {},
   "source": [
    "# PyTorch tensors & NumPy\n",
    "* Convert NumPy data to PyTorch tensor -> `torch.from.numpy(ndarray)`\n",
    "* Convert PyTorch tensor to NumPy data -> `torch.Tensor.numpy()`\n",
    "\n",
    "! ACHTUNG ! - NumPy default dtype is float64"
   ]
  },
  {
   "cell_type": "markdown",
   "id": "e9c147cb-d937-4a51-9c2f-75aa31a23690",
   "metadata": {},
   "source": [
    "## 1. NumPy -> PyTorch"
   ]
  },
  {
   "cell_type": "code",
   "execution_count": 90,
   "id": "68ed37d6-1adb-4f70-93d0-17d2c26fd326",
   "metadata": {},
   "outputs": [
    {
     "data": {
      "text/plain": [
       "array([1., 2., 3., 4., 5., 6., 7.])"
      ]
     },
     "execution_count": 90,
     "metadata": {},
     "output_type": "execute_result"
    }
   ],
   "source": [
    "np_array0 = np.arange(1.0, 8.0)\n",
    "np_array0"
   ]
  },
  {
   "cell_type": "code",
   "execution_count": 91,
   "id": "f9ea99f3-7667-4254-960c-8750330f5038",
   "metadata": {},
   "outputs": [
    {
     "data": {
      "text/plain": [
       "tensor([1., 2., 3., 4., 5., 6., 7.], dtype=torch.float64)"
      ]
     },
     "execution_count": 91,
     "metadata": {},
     "output_type": "execute_result"
    }
   ],
   "source": [
    "torch_tensor0 = torch.from_numpy(np_array0)\n",
    "torch_tensor0"
   ]
  },
  {
   "cell_type": "code",
   "execution_count": 92,
   "id": "b75a56a3-5014-43dd-9f62-9dd6df952e9c",
   "metadata": {},
   "outputs": [
    {
     "data": {
      "text/plain": [
       "torch.float64"
      ]
     },
     "execution_count": 92,
     "metadata": {},
     "output_type": "execute_result"
    }
   ],
   "source": [
    "torch_tensor0.dtype"
   ]
  },
  {
   "cell_type": "code",
   "execution_count": 93,
   "id": "3d1472cd-f507-4b05-92a5-b17aa8ddf3f1",
   "metadata": {},
   "outputs": [
    {
     "data": {
      "text/plain": [
       "tensor([1., 2., 3., 4., 5., 6., 7.])"
      ]
     },
     "execution_count": 93,
     "metadata": {},
     "output_type": "execute_result"
    }
   ],
   "source": [
    "# Also dtype changed to float32\n",
    "torch_tensor1 = torch.from_numpy(np_array0).type(torch.float32)\n",
    "torch_tensor1"
   ]
  },
  {
   "cell_type": "code",
   "execution_count": 94,
   "id": "9bcfb620-8332-49c3-a946-ecdd081f45cf",
   "metadata": {},
   "outputs": [
    {
     "data": {
      "text/plain": [
       "torch.float32"
      ]
     },
     "execution_count": 94,
     "metadata": {},
     "output_type": "execute_result"
    }
   ],
   "source": [
    "torch_tensor1.dtype"
   ]
  },
  {
   "cell_type": "markdown",
   "id": "d350cbff-b5e5-4bc3-aabb-9db3e8c97b4b",
   "metadata": {},
   "source": [
    "## 2. Pytorch -> NumPy"
   ]
  },
  {
   "cell_type": "code",
   "execution_count": 95,
   "id": "41b311db-1d12-4eed-8f8c-08d5ea23fa9e",
   "metadata": {},
   "outputs": [
    {
     "data": {
      "text/plain": [
       "tensor([1., 1., 1., 1., 1., 1., 1.])"
      ]
     },
     "execution_count": 95,
     "metadata": {},
     "output_type": "execute_result"
    }
   ],
   "source": [
    "torch_tensor1 = torch.ones(7)\n",
    "torch_tensor1"
   ]
  },
  {
   "cell_type": "code",
   "execution_count": 96,
   "id": "3f835cfe-df47-470e-9b6c-86ba12cdfaea",
   "metadata": {},
   "outputs": [
    {
     "data": {
      "text/plain": [
       "torch.float32"
      ]
     },
     "execution_count": 96,
     "metadata": {},
     "output_type": "execute_result"
    }
   ],
   "source": [
    "torch_tensor1.dtype"
   ]
  },
  {
   "cell_type": "code",
   "execution_count": 97,
   "id": "6a2c2f7f-3367-47d1-bba7-c0b065772bcd",
   "metadata": {},
   "outputs": [
    {
     "data": {
      "text/plain": [
       "array([1., 1., 1., 1., 1., 1., 1.], dtype=float32)"
      ]
     },
     "execution_count": 97,
     "metadata": {},
     "output_type": "execute_result"
    }
   ],
   "source": [
    "np_tensor1 = torch_tensor1.numpy()\n",
    "np_tensor1"
   ]
  },
  {
   "cell_type": "code",
   "execution_count": 98,
   "id": "4a44b9d3-fb24-4787-abc2-ab878e784648",
   "metadata": {},
   "outputs": [
    {
     "data": {
      "text/plain": [
       "dtype('float32')"
      ]
     },
     "execution_count": 98,
     "metadata": {},
     "output_type": "execute_result"
    }
   ],
   "source": [
    "np_tensor1.dtype"
   ]
  },
  {
   "cell_type": "markdown",
   "id": "6433a8a1-9c78-467c-820d-d15a89c33fed",
   "metadata": {},
   "source": [
    "# Reproducibility - random seed\n",
    "\n",
    "Random seed \"flavours\" randomess."
   ]
  },
  {
   "cell_type": "code",
   "execution_count": 99,
   "id": "ab92dfc6-7f07-447a-b613-07fe80b26f3c",
   "metadata": {},
   "outputs": [
    {
     "data": {
      "text/plain": [
       "tensor([[0.8197, 0.2084, 0.6240, 0.6944],\n",
       "        [0.3957, 0.0686, 0.9097, 0.6940],\n",
       "        [0.3671, 0.3943, 0.7164, 0.2780]])"
      ]
     },
     "execution_count": 99,
     "metadata": {},
     "output_type": "execute_result"
    }
   ],
   "source": [
    "random_tensor_A = torch.rand(3, 4)\n",
    "random_tensor_A"
   ]
  },
  {
   "cell_type": "code",
   "execution_count": 100,
   "id": "75941215-57bd-4397-bf12-91b0c255a865",
   "metadata": {},
   "outputs": [
    {
     "data": {
      "text/plain": [
       "tensor([[0.2537, 0.6961, 0.2547, 0.1310],\n",
       "        [0.8346, 0.5103, 0.1819, 0.2723],\n",
       "        [0.8129, 0.2017, 0.2925, 0.4460]])"
      ]
     },
     "execution_count": 100,
     "metadata": {},
     "output_type": "execute_result"
    }
   ],
   "source": [
    "random_tensor_B = torch.rand(3, 4)\n",
    "random_tensor_B"
   ]
  },
  {
   "cell_type": "code",
   "execution_count": 101,
   "id": "200b9d59-5e00-4f0a-8d66-58f6b3288569",
   "metadata": {},
   "outputs": [
    {
     "data": {
      "text/plain": [
       "tensor([[False, False, False, False],\n",
       "        [False, False, False, False],\n",
       "        [False, False, False, False]])"
      ]
     },
     "execution_count": 101,
     "metadata": {},
     "output_type": "execute_result"
    }
   ],
   "source": [
    "random_tensor_A == random_tensor_B"
   ]
  },
  {
   "cell_type": "code",
   "execution_count": 102,
   "id": "24e13102-60e3-4e0a-aaac-092a77ab88fa",
   "metadata": {},
   "outputs": [
    {
     "data": {
      "text/plain": [
       "<torch._C.Generator at 0x77d2f41b6150>"
      ]
     },
     "execution_count": 102,
     "metadata": {},
     "output_type": "execute_result"
    }
   ],
   "source": [
    "RANDOM_SEED = 42\n",
    "torch.manual_seed(RANDOM_SEED)"
   ]
  },
  {
   "cell_type": "code",
   "execution_count": 103,
   "id": "dda0c99e-f4cd-4e78-9c82-adb1ec90f964",
   "metadata": {},
   "outputs": [
    {
     "data": {
      "text/plain": [
       "tensor([[0.8823, 0.9150, 0.3829, 0.9593],\n",
       "        [0.3904, 0.6009, 0.2566, 0.7936],\n",
       "        [0.9408, 0.1332, 0.9346, 0.5936]])"
      ]
     },
     "execution_count": 103,
     "metadata": {},
     "output_type": "execute_result"
    }
   ],
   "source": [
    "torch.manual_seed(RANDOM_SEED)\n",
    "random_tensor_C0 = torch.rand(3, 4)\n",
    "random_tensor_C0"
   ]
  },
  {
   "cell_type": "code",
   "execution_count": 104,
   "id": "6e09de32-1b17-4b24-aee0-9dd408b7b2d3",
   "metadata": {},
   "outputs": [
    {
     "data": {
      "text/plain": [
       "tensor([[0.8694, 0.5677, 0.7411, 0.4294],\n",
       "        [0.8854, 0.5739, 0.2666, 0.6274],\n",
       "        [0.2696, 0.4414, 0.2969, 0.8317]])"
      ]
     },
     "execution_count": 104,
     "metadata": {},
     "output_type": "execute_result"
    }
   ],
   "source": [
    "random_tensor_C1 = torch.rand(3, 4)\n",
    "random_tensor_C1"
   ]
  },
  {
   "cell_type": "code",
   "execution_count": 105,
   "id": "1779209c-2580-40ce-9fd5-063e13248d7b",
   "metadata": {},
   "outputs": [
    {
     "data": {
      "text/plain": [
       "tensor([[0.8823, 0.9150, 0.3829, 0.9593],\n",
       "        [0.3904, 0.6009, 0.2566, 0.7936],\n",
       "        [0.9408, 0.1332, 0.9346, 0.5936]])"
      ]
     },
     "execution_count": 105,
     "metadata": {},
     "output_type": "execute_result"
    }
   ],
   "source": [
    "torch.manual_seed(RANDOM_SEED)\n",
    "random_tensor_D0 = torch.rand(3, 4)\n",
    "random_tensor_D0"
   ]
  },
  {
   "cell_type": "code",
   "execution_count": 106,
   "id": "2b413573-a0c7-43a7-9e2d-b485ec6d3aca",
   "metadata": {},
   "outputs": [
    {
     "data": {
      "text/plain": [
       "tensor([[0.8694, 0.5677, 0.7411, 0.4294],\n",
       "        [0.8854, 0.5739, 0.2666, 0.6274],\n",
       "        [0.2696, 0.4414, 0.2969, 0.8317]])"
      ]
     },
     "execution_count": 106,
     "metadata": {},
     "output_type": "execute_result"
    }
   ],
   "source": [
    "random_tensor_D1 = torch.rand(3, 4)\n",
    "random_tensor_D1"
   ]
  },
  {
   "cell_type": "code",
   "execution_count": 107,
   "id": "41d44af6-3d03-4a92-97b0-0014870f2cb8",
   "metadata": {},
   "outputs": [
    {
     "data": {
      "text/plain": [
       "tensor([[True, True, True, True],\n",
       "        [True, True, True, True],\n",
       "        [True, True, True, True]])"
      ]
     },
     "execution_count": 107,
     "metadata": {},
     "output_type": "execute_result"
    }
   ],
   "source": [
    "random_tensor_C0 == random_tensor_D0"
   ]
  },
  {
   "cell_type": "code",
   "execution_count": 108,
   "id": "bb629255-819d-4b88-8fc1-f82735a769c2",
   "metadata": {},
   "outputs": [
    {
     "data": {
      "text/plain": [
       "tensor([[True, True, True, True],\n",
       "        [True, True, True, True],\n",
       "        [True, True, True, True]])"
      ]
     },
     "execution_count": 108,
     "metadata": {},
     "output_type": "execute_result"
    }
   ],
   "source": [
    "random_tensor_C1 == random_tensor_D1"
   ]
  },
  {
   "cell_type": "markdown",
   "id": "34d7dd1e-398a-4e72-b5fa-65e39369d45f",
   "metadata": {},
   "source": [
    "# GPU CUDA"
   ]
  },
  {
   "cell_type": "code",
   "execution_count": 109,
   "id": "252f577c-f4d2-4c14-afa5-12fdffc09529",
   "metadata": {},
   "outputs": [
    {
     "name": "stdout",
     "output_type": "stream",
     "text": [
      "Sat Feb  3 13:10:24 2024       \n",
      "+---------------------------------------------------------------------------------------+\n",
      "| NVIDIA-SMI 545.29.06              Driver Version: 545.29.06    CUDA Version: 12.3     |\n",
      "|-----------------------------------------+----------------------+----------------------+\n",
      "| GPU  Name                 Persistence-M | Bus-Id        Disp.A | Volatile Uncorr. ECC |\n",
      "| Fan  Temp   Perf          Pwr:Usage/Cap |         Memory-Usage | GPU-Util  Compute M. |\n",
      "|                                         |                      |               MIG M. |\n",
      "|=========================================+======================+======================|\n",
      "|   0  NVIDIA GeForce GTX 1080        Off | 00000000:01:00.0  On |                  N/A |\n",
      "|  0%   51C    P0              39W / 200W |    991MiB /  8192MiB |      4%      Default |\n",
      "|                                         |                      |                  N/A |\n",
      "+-----------------------------------------+----------------------+----------------------+\n",
      "                                                                                         \n",
      "+---------------------------------------------------------------------------------------+\n",
      "| Processes:                                                                            |\n",
      "|  GPU   GI   CI        PID   Type   Process name                            GPU Memory |\n",
      "|        ID   ID                                                             Usage      |\n",
      "|=======================================================================================|\n",
      "|    0   N/A  N/A      1391      G   /usr/lib/Xorg                               316MiB |\n",
      "|    0   N/A  N/A      1527      G   /usr/bin/kwalletd5                            2MiB |\n",
      "|    0   N/A  N/A      1625      G   /usr/bin/ksmserver                            2MiB |\n",
      "|    0   N/A  N/A      1628      G   /usr/bin/kded5                                2MiB |\n",
      "|    0   N/A  N/A      1629      G   /usr/bin/kwin_x11                            57MiB |\n",
      "|    0   N/A  N/A      1677      G   /usr/bin/plasmashell                         44MiB |\n",
      "|    0   N/A  N/A      1705      G   ...b/polkit-kde-authentication-agent-1        2MiB |\n",
      "|    0   N/A  N/A      1707      G   /usr/lib/xdg-desktop-portal-kde               2MiB |\n",
      "|    0   N/A  N/A      1883      G   /usr/bin/easyeffects                          6MiB |\n",
      "|    0   N/A  N/A      1906      G   /usr/bin/kaccess                              2MiB |\n",
      "|    0   N/A  N/A      1909      G   /usr/lib/DiscoverNotifier                     2MiB |\n",
      "|    0   N/A  N/A      1915      G   /usr/bin/kalendarac                           2MiB |\n",
      "|    0   N/A  N/A      2036      G   /usr/bin/akonadi_control                      2MiB |\n",
      "|    0   N/A  N/A      2139      G   /usr/bin/akonadi_akonotes_resource            2MiB |\n",
      "|    0   N/A  N/A      2140      G   /usr/bin/akonadi_archivemail_agent            2MiB |\n",
      "|    0   N/A  N/A      2141      G   /usr/bin/akonadi_birthdays_resource           2MiB |\n",
      "|    0   N/A  N/A      2142      G   /usr/bin/akonadi_contacts_resource            2MiB |\n",
      "|    0   N/A  N/A      2143      G   .../bin/akonadi_followupreminder_agent        2MiB |\n",
      "|    0   N/A  N/A      2144      G   /usr/bin/akonadi_ical_resource                2MiB |\n",
      "|    0   N/A  N/A      2148      G   /usr/bin/akonadi_indexing_agent               2MiB |\n",
      "|    0   N/A  N/A      2150      G   /usr/bin/akonadi_maildir_resource             2MiB |\n",
      "|    0   N/A  N/A      2155      G   /usr/bin/akonadi_maildispatcher_agent         2MiB |\n",
      "|    0   N/A  N/A      2156      G   /usr/bin/akonadi_mailfilter_agent             2MiB |\n",
      "|    0   N/A  N/A      2157      G   /usr/bin/akonadi_mailmerge_agent              2MiB |\n",
      "|    0   N/A  N/A      2159      G   /usr/bin/akonadi_migration_agent              2MiB |\n",
      "|    0   N/A  N/A      2161      G   /usr/bin/akonadi_newmailnotifier_agent        2MiB |\n",
      "|    0   N/A  N/A      2164      G   /usr/bin/akonadi_notes_agent                  2MiB |\n",
      "|    0   N/A  N/A      2166      G   /usr/bin/akonadi_sendlater_agent              2MiB |\n",
      "|    0   N/A  N/A      2167      G   /usr/bin/akonadi_unifiedmailbox_agent         2MiB |\n",
      "|    0   N/A  N/A      2221      G   /usr/bin/kate                                 2MiB |\n",
      "|    0   N/A  N/A      2271      G   /usr/bin/dolphin                              2MiB |\n",
      "|    0   N/A  N/A      2347      G   /usr/bin/plasma-systemmonitor                22MiB |\n",
      "|    0   N/A  N/A      2503      G   /usr/bin/kitty                                2MiB |\n",
      "|    0   N/A  N/A     18349      G   /usr/lib/firefox/firefox                    330MiB |\n",
      "|    0   N/A  N/A     18502      G   /usr/bin/telegram-desktop                     2MiB |\n",
      "|    0   N/A  N/A     19088      G   ...bin/plasma-browser-integration-host        2MiB |\n",
      "|    0   N/A  N/A     33719      G   /usr/bin/kcalc                                2MiB |\n",
      "|    0   N/A  N/A     43989      C   .../ztm-pytorch-course1/env/bin/python      118MiB |\n",
      "+---------------------------------------------------------------------------------------+\n"
     ]
    }
   ],
   "source": [
    "!nvidia-smi"
   ]
  },
  {
   "cell_type": "code",
   "execution_count": 110,
   "id": "b5c4b181-6592-4ea6-81c3-955880c66b89",
   "metadata": {},
   "outputs": [
    {
     "name": "stdout",
     "output_type": "stream",
     "text": [
      "True\n"
     ]
    }
   ],
   "source": [
    "print(torch.cuda.is_available())"
   ]
  },
  {
   "cell_type": "code",
   "execution_count": 111,
   "id": "9619ed50-b5f4-4edd-8722-c4466f0b9169",
   "metadata": {},
   "outputs": [
    {
     "data": {
      "text/plain": [
       "'cuda'"
      ]
     },
     "execution_count": 111,
     "metadata": {},
     "output_type": "execute_result"
    }
   ],
   "source": [
    "# Setup device agnostic code\n",
    "device = 'cuda' if torch.cuda.is_available() else 'cpu'\n",
    "device"
   ]
  },
  {
   "cell_type": "code",
   "execution_count": 112,
   "id": "3ed62e1f-d130-4538-8d0a-3f6bc86f731e",
   "metadata": {},
   "outputs": [
    {
     "data": {
      "text/plain": [
       "1"
      ]
     },
     "execution_count": 112,
     "metadata": {},
     "output_type": "execute_result"
    }
   ],
   "source": [
    "# Count number of devices\n",
    "torch.cuda.device_count()"
   ]
  },
  {
   "cell_type": "markdown",
   "id": "07a111f0-dd6b-4f04-8298-c4e8bac2d16e",
   "metadata": {},
   "source": [
    "# Putting tensors on GPU (CUDA)"
   ]
  },
  {
   "cell_type": "markdown",
   "id": "64ba75b1-d399-423f-90fc-2fe3560f688f",
   "metadata": {},
   "source": [
    "## 1. CPU -> GPU (CUDA)"
   ]
  },
  {
   "cell_type": "code",
   "execution_count": 113,
   "id": "7e8c5074-b6ed-45f0-9adf-0516c2b76ed7",
   "metadata": {},
   "outputs": [
    {
     "data": {
      "text/plain": [
       "tensor([[0.1053, 0.2695, 0.3588, 0.1994],\n",
       "        [0.5472, 0.0062, 0.9516, 0.0753],\n",
       "        [0.8860, 0.5832, 0.3376, 0.8090]])"
      ]
     },
     "execution_count": 113,
     "metadata": {},
     "output_type": "execute_result"
    }
   ],
   "source": [
    "default_tensor = torch.rand(3, 4)\n",
    "default_tensor"
   ]
  },
  {
   "cell_type": "code",
   "execution_count": 114,
   "id": "17b55916-efa9-449d-bb35-afc95e0ca484",
   "metadata": {},
   "outputs": [
    {
     "data": {
      "text/plain": [
       "device(type='cpu')"
      ]
     },
     "execution_count": 114,
     "metadata": {},
     "output_type": "execute_result"
    }
   ],
   "source": [
    "default_tensor.device"
   ]
  },
  {
   "cell_type": "code",
   "execution_count": 115,
   "id": "73ab9471-411e-41af-8a23-dbb234b15604",
   "metadata": {},
   "outputs": [
    {
     "data": {
      "text/plain": [
       "tensor([[0.1053, 0.2695, 0.3588, 0.1994],\n",
       "        [0.5472, 0.0062, 0.9516, 0.0753],\n",
       "        [0.8860, 0.5832, 0.3376, 0.8090]], device='cuda:0')"
      ]
     },
     "execution_count": 115,
     "metadata": {},
     "output_type": "execute_result"
    }
   ],
   "source": [
    "tensor_on_gpu = default_tensor.to(device)\n",
    "tensor_on_gpu"
   ]
  },
  {
   "cell_type": "code",
   "execution_count": 116,
   "id": "22baac89-9187-4160-a118-a4e09ce99947",
   "metadata": {},
   "outputs": [
    {
     "data": {
      "text/plain": [
       "device(type='cuda', index=0)"
      ]
     },
     "execution_count": 116,
     "metadata": {},
     "output_type": "execute_result"
    }
   ],
   "source": [
    "tensor_on_gpu.device"
   ]
  },
  {
   "cell_type": "markdown",
   "id": "a54a21b5-667d-4c7f-8d22-c737a5c8bd3d",
   "metadata": {},
   "source": [
    "## 2. GPU (CUDA) -> CPU"
   ]
  },
  {
   "cell_type": "code",
   "execution_count": 117,
   "id": "145d6e2e-caf8-4e79-9e77-5cb920c17cff",
   "metadata": {},
   "outputs": [
    {
     "data": {
      "text/plain": [
       "tensor([[0.1053, 0.2695, 0.3588, 0.1994],\n",
       "        [0.5472, 0.0062, 0.9516, 0.0753],\n",
       "        [0.8860, 0.5832, 0.3376, 0.8090]])"
      ]
     },
     "execution_count": 117,
     "metadata": {},
     "output_type": "execute_result"
    }
   ],
   "source": [
    "tensor_back_on_cpu = tensor_on_gpu.cpu()\n",
    "tensor_back_on_cpu"
   ]
  },
  {
   "cell_type": "code",
   "execution_count": 118,
   "id": "5cdfbeb9-ab33-4021-b9ab-0e4e1aaeef54",
   "metadata": {},
   "outputs": [
    {
     "data": {
      "text/plain": [
       "device(type='cpu')"
      ]
     },
     "execution_count": 118,
     "metadata": {},
     "output_type": "execute_result"
    }
   ],
   "source": [
    "tensor_back_on_cpu.device"
   ]
  },
  {
   "cell_type": "code",
   "execution_count": null,
   "id": "b777e5ce-380f-4719-896a-0eae9c835acc",
   "metadata": {},
   "outputs": [],
   "source": []
  }
 ],
 "metadata": {
  "kernelspec": {
   "display_name": "Python 3 (ipykernel)",
   "language": "python",
   "name": "python3"
  },
  "language_info": {
   "codemirror_mode": {
    "name": "ipython",
    "version": 3
   },
   "file_extension": ".py",
   "mimetype": "text/x-python",
   "name": "python",
   "nbconvert_exporter": "python",
   "pygments_lexer": "ipython3",
   "version": "3.11.0"
  }
 },
 "nbformat": 4,
 "nbformat_minor": 5
}
