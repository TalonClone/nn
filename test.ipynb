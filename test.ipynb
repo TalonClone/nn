{
 "cells": [
  {
   "cell_type": "code",
   "execution_count": 6,
   "id": "855f1252-ba97-4fa5-8937-565bd7f303c5",
   "metadata": {},
   "outputs": [
    {
     "name": "stdout",
     "output_type": "stream",
     "text": [
      "tensor([[-0.6920, -0.6501,  1.5534],\n",
      "        [ 0.7991, -0.1144,  1.0855],\n",
      "        [-2.2055,  1.4112, -0.0631]])\n",
      "True\n"
     ]
    }
   ],
   "source": [
    "import pandas as pd\n",
    "import numpy as np\n",
    "import torch\n",
    "import sklearn\n",
    "import matplotlib\n",
    "import torchinfo, torchmetrics\n",
    "\n",
    "# Check PyTorch access (should print out a tensor)\n",
    "print(torch.randn(3, 3))\n",
    "\n",
    "# Check for GPU (should return True)\n",
    "print(torch.cuda.is_available())"
   ]
  },
  {
   "cell_type": "code",
   "execution_count": 4,
   "id": "3595a953-5d70-4edf-ae35-3212d10c8f08",
   "metadata": {},
   "outputs": [
    {
     "data": {
      "text/plain": [
       "'2.1.2'"
      ]
     },
     "execution_count": 4,
     "metadata": {},
     "output_type": "execute_result"
    }
   ],
   "source": [
    "torch.__version__"
   ]
  },
  {
   "cell_type": "code",
   "execution_count": 7,
   "id": "e4dc40c3-6945-4827-87bd-d7a3ac4ca9b0",
   "metadata": {},
   "outputs": [
    {
     "name": "stdout",
     "output_type": "stream",
     "text": [
      "Mon Jan 29 20:32:00 2024       \n",
      "+---------------------------------------------------------------------------------------+\n",
      "| NVIDIA-SMI 545.29.06              Driver Version: 545.29.06    CUDA Version: 12.3     |\n",
      "|-----------------------------------------+----------------------+----------------------+\n",
      "| GPU  Name                 Persistence-M | Bus-Id        Disp.A | Volatile Uncorr. ECC |\n",
      "| Fan  Temp   Perf          Pwr:Usage/Cap |         Memory-Usage | GPU-Util  Compute M. |\n",
      "|                                         |                      |               MIG M. |\n",
      "|=========================================+======================+======================|\n",
      "|   0  NVIDIA GeForce GTX 1080        Off | 00000000:01:00.0  On |                  N/A |\n",
      "|  0%   50C    P0              33W / 200W |    994MiB /  8192MiB |      6%      Default |\n",
      "|                                         |                      |                  N/A |\n",
      "+-----------------------------------------+----------------------+----------------------+\n",
      "                                                                                         \n",
      "+---------------------------------------------------------------------------------------+\n",
      "| Processes:                                                                            |\n",
      "|  GPU   GI   CI        PID   Type   Process name                            GPU Memory |\n",
      "|        ID   ID                                                             Usage      |\n",
      "|=======================================================================================|\n",
      "|    0   N/A  N/A      2223      G   /usr/lib/Xorg                               324MiB |\n",
      "|    0   N/A  N/A      2352      G   /usr/bin/kwalletd5                            2MiB |\n",
      "|    0   N/A  N/A      2450      G   /usr/bin/ksmserver                            2MiB |\n",
      "|    0   N/A  N/A      2453      G   /usr/bin/kded5                                2MiB |\n",
      "|    0   N/A  N/A      2454      G   /usr/bin/kwin_x11                            86MiB |\n",
      "|    0   N/A  N/A      2501      G   /usr/bin/plasmashell                         62MiB |\n",
      "|    0   N/A  N/A      2536      G   ...b/polkit-kde-authentication-agent-1        2MiB |\n",
      "|    0   N/A  N/A      2538      G   /usr/lib/xdg-desktop-portal-kde               2MiB |\n",
      "|    0   N/A  N/A      2721      G   /usr/bin/easyeffects                         22MiB |\n",
      "|    0   N/A  N/A      2746      G   /usr/bin/kaccess                              2MiB |\n",
      "|    0   N/A  N/A      2754      G   /usr/lib/DiscoverNotifier                     2MiB |\n",
      "|    0   N/A  N/A      2755      G   /usr/bin/kalendarac                           2MiB |\n",
      "|    0   N/A  N/A      2823      G   /usr/bin/akonadi_control                      2MiB |\n",
      "|    0   N/A  N/A      2900      G   /usr/bin/akonadi_akonotes_resource            2MiB |\n",
      "|    0   N/A  N/A      2901      G   /usr/bin/akonadi_archivemail_agent            2MiB |\n",
      "|    0   N/A  N/A      2902      G   /usr/bin/akonadi_birthdays_resource           2MiB |\n",
      "|    0   N/A  N/A      2903      G   /usr/bin/akonadi_contacts_resource            2MiB |\n",
      "|    0   N/A  N/A      2904      G   .../bin/akonadi_followupreminder_agent        2MiB |\n",
      "|    0   N/A  N/A      2905      G   /usr/bin/akonadi_ical_resource                2MiB |\n",
      "|    0   N/A  N/A      2907      G   /usr/bin/akonadi_indexing_agent               2MiB |\n",
      "|    0   N/A  N/A      2909      G   /usr/bin/akonadi_maildir_resource             2MiB |\n",
      "|    0   N/A  N/A      2910      G   /usr/bin/akonadi_maildispatcher_agent         2MiB |\n",
      "|    0   N/A  N/A      2913      G   /usr/bin/akonadi_mailfilter_agent             2MiB |\n",
      "|    0   N/A  N/A      2917      G   /usr/bin/akonadi_mailmerge_agent              2MiB |\n",
      "|    0   N/A  N/A      2921      G   /usr/bin/akonadi_migration_agent              2MiB |\n",
      "|    0   N/A  N/A      2924      G   /usr/bin/akonadi_newmailnotifier_agent        2MiB |\n",
      "|    0   N/A  N/A      2925      G   /usr/bin/akonadi_notes_agent                  2MiB |\n",
      "|    0   N/A  N/A      2927      G   /usr/bin/akonadi_sendlater_agent              2MiB |\n",
      "|    0   N/A  N/A      2932      G   /usr/bin/akonadi_unifiedmailbox_agent         2MiB |\n",
      "|    0   N/A  N/A      3051      G   /usr/bin/kate                                 2MiB |\n",
      "|    0   N/A  N/A      3097      G   /usr/bin/dolphin                              2MiB |\n",
      "|    0   N/A  N/A      4586      G   /usr/bin/kitty                                2MiB |\n",
      "|    0   N/A  N/A      6945      G   /usr/lib/firefox/firefox                    375MiB |\n",
      "|    0   N/A  N/A      7615      G   ...bin/plasma-browser-integration-host        2MiB |\n",
      "|    0   N/A  N/A     17058      G   /usr/bin/kcalc                                2MiB |\n",
      "|    0   N/A  N/A     47433      G   ...,WinRetrieveSuggestionsOnlyOnDemand       25MiB |\n",
      "|    0   N/A  N/A     56460      G   /usr/bin/telegram-desktop                     2MiB |\n",
      "|    0   N/A  N/A     62341      G   /usr/lib/baloorunner                          2MiB |\n",
      "+---------------------------------------------------------------------------------------+\n"
     ]
    }
   ],
   "source": [
    "!nvidia-smi"
   ]
  },
  {
   "cell_type": "code",
   "execution_count": null,
   "id": "020ccde2-29dd-4f7c-a3af-7575ab60c302",
   "metadata": {},
   "outputs": [],
   "source": []
  }
 ],
 "metadata": {
  "kernelspec": {
   "display_name": "Python 3 (ipykernel)",
   "language": "python",
   "name": "python3"
  },
  "language_info": {
   "codemirror_mode": {
    "name": "ipython",
    "version": 3
   },
   "file_extension": ".py",
   "mimetype": "text/x-python",
   "name": "python",
   "nbconvert_exporter": "python",
   "pygments_lexer": "ipython3",
   "version": "3.11.7"
  }
 },
 "nbformat": 4,
 "nbformat_minor": 5
}
