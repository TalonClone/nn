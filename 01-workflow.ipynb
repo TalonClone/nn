{
 "cells": [
  {
   "cell_type": "code",
   "execution_count": 1,
   "id": "f979016d-7c81-49d0-861c-bfafe0fcb2f8",
   "metadata": {},
   "outputs": [
    {
     "name": "stdout",
     "output_type": "stream",
     "text": [
      "True\n"
     ]
    }
   ],
   "source": [
    "import torch\n",
    "from torch import nn\n",
    "\n",
    "import pandas as pd\n",
    "import numpy as np\n",
    "import matplotlib.pyplot as plt\n",
    "\n",
    "from pathlib import Path\n",
    "\n",
    "# Setup device agnostic code\n",
    "device = 'cuda' if torch.cuda.is_available() else 'cpu'\n",
    "device\n",
    "\n",
    "# Check for GPU (should return True)\n",
    "print(torch.cuda.is_available())"
   ]
  },
  {
   "cell_type": "markdown",
   "id": "a105eabc-040f-4f4e-8cdd-d21c52ac7fc9",
   "metadata": {},
   "source": [
    "# 1. Data (preparing and loading)"
   ]
  },
  {
   "cell_type": "code",
   "execution_count": 2,
   "id": "ee960fe5-923b-4eea-abc0-32d2af1a599b",
   "metadata": {},
   "outputs": [],
   "source": [
    "# Create *known* parameters \n",
    "data_weight = 0.7\n",
    "data_bias = 0.3\n",
    "\n",
    "# Create range values\n",
    "data_start = 0\n",
    "data_end = 1\n",
    "data_step = 0.02\n",
    "\n",
    "# Create X and y (features and labels)\n",
    "data_X = torch.arange(data_start, data_end, data_step).unsqueeze(dim=1)\n",
    "data_y = data_weight * data_X + data_bias"
   ]
  },
  {
   "cell_type": "code",
   "execution_count": 3,
   "id": "5cbcae42-aae9-4047-8b59-0fb85758aee2",
   "metadata": {},
   "outputs": [
    {
     "data": {
      "text/plain": [
       "tensor([[0.0000],\n",
       "        [0.0200],\n",
       "        [0.0400],\n",
       "        [0.0600],\n",
       "        [0.0800],\n",
       "        [0.1000],\n",
       "        [0.1200],\n",
       "        [0.1400],\n",
       "        [0.1600],\n",
       "        [0.1800]])"
      ]
     },
     "execution_count": 3,
     "metadata": {},
     "output_type": "execute_result"
    }
   ],
   "source": [
    "data_X[:10]"
   ]
  },
  {
   "cell_type": "code",
   "execution_count": 4,
   "id": "be579404-6ace-4b7f-b915-3a34ec5fe0da",
   "metadata": {},
   "outputs": [
    {
     "data": {
      "text/plain": [
       "torch.Size([50, 1])"
      ]
     },
     "execution_count": 4,
     "metadata": {},
     "output_type": "execute_result"
    }
   ],
   "source": [
    "data_X.shape"
   ]
  },
  {
   "cell_type": "code",
   "execution_count": 5,
   "id": "452313e5-2eba-40ed-b105-500494de872a",
   "metadata": {},
   "outputs": [
    {
     "data": {
      "text/plain": [
       "tensor([[0.3000],\n",
       "        [0.3140],\n",
       "        [0.3280],\n",
       "        [0.3420],\n",
       "        [0.3560],\n",
       "        [0.3700],\n",
       "        [0.3840],\n",
       "        [0.3980],\n",
       "        [0.4120],\n",
       "        [0.4260]])"
      ]
     },
     "execution_count": 5,
     "metadata": {},
     "output_type": "execute_result"
    }
   ],
   "source": [
    "data_y[:10]"
   ]
  },
  {
   "cell_type": "code",
   "execution_count": 6,
   "id": "2a4e83da-225c-4f85-bf29-050a89ecc44e",
   "metadata": {},
   "outputs": [
    {
     "data": {
      "text/plain": [
       "torch.Size([50, 1])"
      ]
     },
     "execution_count": 6,
     "metadata": {},
     "output_type": "execute_result"
    }
   ],
   "source": [
    "data_y.shape"
   ]
  },
  {
   "cell_type": "markdown",
   "id": "b4a70af5-663b-4cac-9b27-21ee592963bb",
   "metadata": {},
   "source": [
    "## Splitting data into training and test sets\n",
    "\n",
    "* training set 60-80% of data (course materials) - always\n",
    "* validation set 10-20% of data (practice exam) - sometimes\n",
    "* test set 10-20% of data (final exam) - always\n",
    "\n",
    "_Generalization_ - the ability for a machine learning model to perform well on data it hasn't seen before."
   ]
  },
  {
   "cell_type": "code",
   "execution_count": 7,
   "id": "f4041f16-5b4b-446f-b322-abbcb6486e6e",
   "metadata": {},
   "outputs": [
    {
     "data": {
      "text/plain": [
       "40"
      ]
     },
     "execution_count": 7,
     "metadata": {},
     "output_type": "execute_result"
    }
   ],
   "source": [
    "data_train_split = int(0.8 * len(data_X))\n",
    "data_train_split"
   ]
  },
  {
   "cell_type": "code",
   "execution_count": 8,
   "id": "f5b394de-f5c1-40ff-abf1-407fe9dba9d5",
   "metadata": {},
   "outputs": [],
   "source": [
    "# Split data\n",
    "data_X_train = data_X[:data_train_split]\n",
    "data_y_train = data_y[:data_train_split]\n",
    "data_X_test = data_X[data_train_split:]\n",
    "data_y_test = data_y[data_train_split:]"
   ]
  },
  {
   "cell_type": "code",
   "execution_count": 9,
   "id": "2a466b06-2792-4019-8d55-d1f3b29600b1",
   "metadata": {},
   "outputs": [
    {
     "data": {
      "text/plain": [
       "(40, 40, 10, 10)"
      ]
     },
     "execution_count": 9,
     "metadata": {},
     "output_type": "execute_result"
    }
   ],
   "source": [
    "len(data_X_train), len(data_y_train), len(data_X_test), len(data_y_test)"
   ]
  },
  {
   "cell_type": "code",
   "execution_count": 10,
   "id": "ce8da0ad-732d-4ce2-9121-636646abb1b9",
   "metadata": {},
   "outputs": [
    {
     "data": {
      "image/png": "[encoded data removed]",
      "text/plain": [
       "<Figure size 700x700 with 1 Axes>"
      ]
     },
     "metadata": {},
     "output_type": "display_data"
    }
   ],
   "source": [
    "# Visualization function\n",
    "def plot_predictions(train_data=data_X_train,\n",
    "                     train_labels=data_y_train,\n",
    "                     test_data=data_X_test,\n",
    "                     test_labels=data_y_test,\n",
    "                     predictions=None):\n",
    "    \"\"\"\n",
    "    Plots training data, test data and compares predictions\n",
    "    \"\"\"\n",
    "    # Canvas size\n",
    "    plt.figure(figsize=(7, 7))\n",
    "\n",
    "    # plt.scatter(x, y, c)\n",
    "    # x, y - coordinates\n",
    "    # c - color\n",
    "    # s - dot size\n",
    "    \n",
    "    # Plot training data in blue\n",
    "    plt.scatter(train_data, train_labels, c='b', s=4, label='Training data')\n",
    "\n",
    "    # Plot training data in green\n",
    "    plt.scatter(test_data, test_labels, c='g', s=4, label='Testing data')\n",
    "\n",
    "    # Are there predictions \n",
    "    if predictions is not None:\n",
    "        # Plot the predictions if they exists\n",
    "        plt.scatter(test_data, predictions, c='r', s=4, label='Predictions')\n",
    "\n",
    "    # Show the legend\n",
    "    plt.legend(prop={'size': 14})\n",
    "\n",
    "\n",
    "\n",
    "\n",
    "plot_predictions()"
   ]
  },
  {
   "cell_type": "markdown",
   "id": "5651e587-344b-4f53-9c8b-7b1a7787e85c",
   "metadata": {},
   "source": [
    "# 2. Build model"
   ]
  },
  {
   "cell_type": "code",
   "execution_count": 11,
   "id": "40a2f53f-9981-480f-9767-6b4e83981a9c",
   "metadata": {},
   "outputs": [],
   "source": [
    "# Create linear regression model class\n",
    "class LinearRegressionModel(nn.Module):\n",
    "    def __init__(self):\n",
    "        super().__init__()\n",
    "\n",
    "        # Initialize model parameters\n",
    "        self.weights = nn.Parameter(torch.randn(1, \n",
    "                                               requires_grad=True,\n",
    "                                               dtype=torch.float))\n",
    "        self.bias = nn.Parameter(torch.randn(1,\n",
    "                                            requires_grad=True,\n",
    "                                            dtype=torch.float))\n",
    "\n",
    "        # Forward method to define the computation in the model\n",
    "    def forward(self,\n",
    "               x: torch.Tensor) -> torch.Tensor: # \"x\" is the input data\n",
    "        return self.weights * x + self.bias # this is linear regression formula\n",
    "            "
   ]
  },
  {
   "cell_type": "markdown",
   "id": "612cab4b-0312-4696-9f4b-cb9d7eddf58d",
   "metadata": {},
   "source": [
    "<img src=\"../pycharm/images/1-1.png\">"
   ]
  },
  {
   "cell_type": "markdown",
   "id": "b8976f29-9def-42ee-aa5f-490d4070b8a1",
   "metadata": {},
   "source": [
    "Gradient descent\n",
    "\n",
    "* https://www.youtube.com/watch?v=IHZwWFHWa-w\n",
    "\n",
    "Backpropogation\n",
    "\n",
    "* https://www.youtube.com/watch?v=Ilg3gGewQ5U"
   ]
  },
  {
   "cell_type": "markdown",
   "id": "a82e2145-e8e4-4ba9-a678-16bbff26fa28",
   "metadata": {},
   "source": [
    "<img src=\"../pycharm/images/1-2.png\">"
   ]
  },
  {
   "cell_type": "markdown",
   "id": "8eeec98d-7727-485c-bb63-db5d5ae00808",
   "metadata": {},
   "source": [
    "<img src=\"../pycharm/images/1-3.png\">"
   ]
  },
  {
   "cell_type": "markdown",
   "id": "572e77d4-f879-473c-9750-724c991d88be",
   "metadata": {},
   "source": [
    "## Checking the contents of PyTorch model"
   ]
  },
  {
   "cell_type": "code",
   "execution_count": 12,
   "id": "b673fea3-c1f8-4671-9bcb-4498bf345bfd",
   "metadata": {},
   "outputs": [],
   "source": [
    "# Create a random seed\n",
    "torch.manual_seed(42)\n",
    "\n",
    "# Create an instance of the model\n",
    "model_0 = LinearRegressionModel()"
   ]
  },
  {
   "cell_type": "code",
   "execution_count": 13,
   "id": "ff3aab7b-856b-482f-8e38-027006889eb5",
   "metadata": {},
   "outputs": [
    {
     "data": {
      "text/plain": [
       "[Parameter containing:\n",
       " tensor([0.3367], requires_grad=True),\n",
       " Parameter containing:\n",
       " tensor([0.1288], requires_grad=True)]"
      ]
     },
     "execution_count": 13,
     "metadata": {},
     "output_type": "execute_result"
    }
   ],
   "source": [
    "list(model_0.parameters())"
   ]
  },
  {
   "cell_type": "code",
   "execution_count": 14,
   "id": "8693cd98-85cf-43b9-93b5-25a1bd8fa43a",
   "metadata": {},
   "outputs": [
    {
     "data": {
      "text/plain": [
       "OrderedDict([('weights', tensor([0.3367])), ('bias', tensor([0.1288]))])"
      ]
     },
     "execution_count": 14,
     "metadata": {},
     "output_type": "execute_result"
    }
   ],
   "source": [
    "model_0.state_dict()"
   ]
  },
  {
   "cell_type": "code",
   "execution_count": 15,
   "id": "0c8799e1-f0b8-4d86-9c70-16ef2d68d979",
   "metadata": {},
   "outputs": [
    {
     "data": {
      "text/plain": [
       "(0.7, 0.3)"
      ]
     },
     "execution_count": 15,
     "metadata": {},
     "output_type": "execute_result"
    }
   ],
   "source": [
    "data_weight, data_bias"
   ]
  },
  {
   "cell_type": "code",
   "execution_count": 16,
   "id": "467e53d2-61b7-46d6-9003-d5a867656cba",
   "metadata": {},
   "outputs": [],
   "source": [
    "# The point is for the model to adjust the random values so that they are almost the same as the ideal values.\n",
    "# weight: 0.3367 -> 0.7\n",
    "# bias: 0.1288 -> 0.3"
   ]
  },
  {
   "cell_type": "markdown",
   "id": "36fe5c99-d9cc-4b68-a814-8631eb629c23",
   "metadata": {},
   "source": [
    "## Making predictions using `torch.inference_mode()`"
   ]
  },
  {
   "cell_type": "code",
   "execution_count": 17,
   "id": "e7721365-0c01-424b-ba12-5cd6f456ef17",
   "metadata": {},
   "outputs": [
    {
     "data": {
      "text/plain": [
       "tensor([[0.3982],\n",
       "        [0.4049],\n",
       "        [0.4116],\n",
       "        [0.4184],\n",
       "        [0.4251],\n",
       "        [0.4318],\n",
       "        [0.4386],\n",
       "        [0.4453],\n",
       "        [0.4520],\n",
       "        [0.4588]])"
      ]
     },
     "execution_count": 17,
     "metadata": {},
     "output_type": "execute_result"
    }
   ],
   "source": [
    "# Make predictions with model\n",
    "with torch.inference_mode():\n",
    "    data_y_preds = model_0(data_X_test)\n",
    "\n",
    "data_y_preds"
   ]
  },
  {
   "cell_type": "code",
   "execution_count": 18,
   "id": "ede2b748-d8dc-4928-b408-577400532b81",
   "metadata": {},
   "outputs": [
    {
     "data": {
      "text/plain": [
       "tensor([[0.8600],\n",
       "        [0.8740],\n",
       "        [0.8880],\n",
       "        [0.9020],\n",
       "        [0.9160],\n",
       "        [0.9300],\n",
       "        [0.9440],\n",
       "        [0.9580],\n",
       "        [0.9720],\n",
       "        [0.9860]])"
      ]
     },
     "execution_count": 18,
     "metadata": {},
     "output_type": "execute_result"
    }
   ],
   "source": [
    "data_y_test"
   ]
  },
  {
   "cell_type": "code",
   "execution_count": 19,
   "id": "7871765b-9c91-4a09-a14e-095538f30f11",
   "metadata": {},
   "outputs": [
    {
     "data": {
      "image/png": "[encoded data removed]",
      "text/plain": [
       "<Figure size 700x700 with 1 Axes>"
      ]
     },
     "metadata": {},
     "output_type": "display_data"
    }
   ],
   "source": [
    "plot_predictions(predictions=data_y_preds)"
   ]
  },
  {
   "cell_type": "markdown",
   "id": "eb0b7ddd-1504-4231-8073-3d695c01c991",
   "metadata": {},
   "source": [
    "# 3. Train model\n",
    "The point is for the model to adjust the random values so that they are almost the same as the ideal values.\n",
    "\n",
    "* weight: 0.3367 -> 0.7\n",
    "* bias: 0.1288 -> 0.3"
   ]
  },
  {
   "cell_type": "markdown",
   "id": "31228b4e-5529-43e7-9639-60ab76f1e8b7",
   "metadata": {},
   "source": [
    "One way to measure how poor or how wrong models predictions are is to use a __loss function__.\n",
    "\n",
    "__Loss function__ - a function to measure how wrong your model's predictions are to the ideal outputs (the lower the better)\n",
    "\n",
    "Loss function may also be called \"cost function\" or \"criterion\" in different areas. \n",
    "\n",
    "__Optimizer__ - takes into account the loss of a model and adjusts the model's parameters (e.g. weight & bias) to improve the loss function"
   ]
  },
  {
   "cell_type": "markdown",
   "id": "d98f1219-41de-43c7-a81e-23cfe53bd6e3",
   "metadata": {},
   "source": [
    "For PyTorch we need:\n",
    "* A trainig loop\n",
    "* A testing loop"
   ]
  },
  {
   "cell_type": "code",
   "execution_count": 20,
   "id": "1fdfc5e6-9c87-48db-bdd8-7d8778c67868",
   "metadata": {},
   "outputs": [
    {
     "data": {
      "text/plain": [
       "OrderedDict([('weights', tensor([0.3367])), ('bias', tensor([0.1288]))])"
      ]
     },
     "execution_count": 20,
     "metadata": {},
     "output_type": "execute_result"
    }
   ],
   "source": [
    "model_0.state_dict()"
   ]
  },
  {
   "cell_type": "markdown",
   "id": "5b512be5-1959-4e2e-a1b1-4936f86e2749",
   "metadata": {},
   "source": [
    "<img src=\"../pycharm/images/1-4.png\">"
   ]
  },
  {
   "cell_type": "code",
   "execution_count": 21,
   "id": "2b50bdbb-a173-4575-905d-89b1c22c2189",
   "metadata": {},
   "outputs": [],
   "source": [
    "# Setup a loss function\n",
    "data_loss_fn = nn.L1Loss()\n",
    "\n",
    "# Setup an optimizer (SGD - stochastic gradient descent)\n",
    "# hyperparameter - is a value that machine learning engineer set by hand\n",
    "# lr - most important hyperparameter \n",
    "data_optimizer = torch.optim.SGD(params=model_0.parameters(),\n",
    "                                lr=0.01)"
   ]
  },
  {
   "cell_type": "markdown",
   "id": "4f20becb-ec89-4e0e-b159-b6474c6906e4",
   "metadata": {},
   "source": [
    "## Building a trainig loop (and a testing loop) PyTorch\n",
    "\n",
    "Loop through the data and do:\n",
    "1. Forward pass (or forward propagation) - `forward()` - function, a walkthrough from the input layer to the output layer, making predictions\n",
    "2. Calculate the loss - compare forward pass predictions to ground truth labels\n",
    "3. Optimizer zero grad\n",
    "4. Loss backward (or back propagation) - move backwards through the network to calculate the gradients of each of the parameters of our model with respect to the loss\n",
    "5. Optimizer step (or gradient descent) - use the optimizer to adjust our model's parameters to try and improve the loss "
   ]
  },
  {
   "cell_type": "code",
   "execution_count": 22,
   "id": "3747c74f-e96d-46a0-83cf-cc3c2246fc67",
   "metadata": {},
   "outputs": [],
   "source": [
    "torch.manual_seed(42)\n",
    "\n",
    "# An epoch is one loop through the data\n",
    "# epoch is hyperparameter because we've set it ourselves\n",
    "epochs = 200\n",
    "\n",
    "# Track different values\n",
    "epoch_count = []\n",
    "loss_values = []\n",
    "test_loss_values = []\n",
    "\n",
    "# Loop through the data\n",
    "for epoch in range(epochs):\n",
    "    # Set the model to training mode\n",
    "    model_0.train() # train mode in PyTorch sets all parameters that require gradients to require gradients\n",
    "\n",
    "    # 1. Forward pass\n",
    "    data_y_preds = model_0(data_X_train)\n",
    "\n",
    "    # 2. Calculate the loss\n",
    "    loss = data_loss_fn(data_y_preds, data_y_train)\n",
    "\n",
    "    # 3. Optimizer zero grad\n",
    "    data_optimizer.zero_grad()\n",
    "    \n",
    "    # 4. Perform back propagation on the loss with respect to the parameters of the model\n",
    "    loss.backward()\n",
    "\n",
    "    # 5. Optimizer step - perform gradient descent\n",
    "    # by default how the optimizer changes will accumulate through the loop, so we have to zero them above in step 3 for the next iteration of the loop\n",
    "    data_optimizer.step() \n",
    "\n",
    "    \n",
    "    # Testing\n",
    "    model_0.eval() # turns off different settings in the model not needed for evaluation/testing (dropout/batch norm lay layers)\n",
    "    with torch.inference_mode(): # Turns off gradient tracking\n",
    "        # 1. Do the forward pass\n",
    "        data_test_pred = model_0(data_X_test)\n",
    "\n",
    "        # 2. Calculate the loss\n",
    "        test_loss = data_loss_fn(data_test_pred, data_y_test)\n",
    "        \n",
    "    if epoch % 10 == 0:\n",
    "        epoch_count.append(epoch)\n",
    "        loss_values.append(loss)\n",
    "        test_loss_values.append(test_loss)\n",
    "        "
   ]
  },
  {
   "cell_type": "markdown",
   "id": "946295c7-0a09-4e1e-9a82-48b9334b47e3",
   "metadata": {},
   "source": [
    "<img src=\"../pycharm/images/1-5.png\">"
   ]
  },
  {
   "cell_type": "markdown",
   "id": "d3570ef8-0ce7-427f-8b2f-a1990fe3cb4c",
   "metadata": {},
   "source": [
    "<img src=\"../pycharm/images/1-6.png\"> "
   ]
  },
  {
   "cell_type": "markdown",
   "id": "b3447342-2c14-414e-9889-6bbf9cbdf31b",
   "metadata": {},
   "source": [
    "# 4. Saving PyTorch model's state_dict()"
   ]
  },
  {
   "cell_type": "code",
   "execution_count": 23,
   "id": "426c2d84-17d0-4446-b9bd-62babf44c3db",
   "metadata": {},
   "outputs": [],
   "source": [
    "# 1. Create models directory \n",
    "MODEL_PATH = Path('models')\n",
    "MODEL_PATH.mkdir(parents=True, exist_ok=True)\n",
    "\n",
    "# 2. Create model save path\n",
    "MODEL_NAME = '01-workflow-model-0.pth'\n",
    "MODEL_SAVE_PATH = MODEL_PATH / MODEL_NAME\n",
    "\n",
    "# 3. Save the model state dict\n",
    "torch.save(obj=model_0.state_dict(),\n",
    "          f=MODEL_SAVE_PATH)\n",
    "\n"
   ]
  },
  {
   "cell_type": "markdown",
   "id": "ac3578c6-4ec2-4cf7-a688-3fd656cd12d7",
   "metadata": {},
   "source": [
    "# 5. Loading PyTorch model's state_dict()"
   ]
  },
  {
   "cell_type": "code",
   "execution_count": 24,
   "id": "ba3dc732-7d0a-4580-9f4b-42ef28f5fd6c",
   "metadata": {},
   "outputs": [
    {
     "data": {
      "text/plain": [
       "<All keys matched successfully>"
      ]
     },
     "execution_count": 24,
     "metadata": {},
     "output_type": "execute_result"
    }
   ],
   "source": [
    "# To load in a saved state_dict we have to instantiate a new instance of our model class\n",
    "loaded_model_0 = LinearRegressionModel()\n",
    "\n",
    "# Load the saved state_dict of model_0 (this will update the new instance with updated parameters)\n",
    "loaded_model_0.load_state_dict(torch.load(f=MODEL_SAVE_PATH))"
   ]
  },
  {
   "cell_type": "code",
   "execution_count": 25,
   "id": "403d5d58-dd34-4a1e-89ac-bfd3f5e48921",
   "metadata": {},
   "outputs": [
    {
     "data": {
      "text/plain": [
       "OrderedDict([('weights', tensor([0.6990])), ('bias', tensor([0.3093]))])"
      ]
     },
     "execution_count": 25,
     "metadata": {},
     "output_type": "execute_result"
    }
   ],
   "source": [
    "loaded_model_0.state_dict()"
   ]
  },
  {
   "cell_type": "markdown",
   "id": "e573c47c-1be5-4c79-833b-d5558a58ba3a",
   "metadata": {},
   "source": [
    "# 6. Putting it all together"
   ]
  },
  {
   "cell_type": "markdown",
   "id": "776c1a13-bc2e-4ce1-83a0-ed1c24534883",
   "metadata": {},
   "source": [
    "<img src=\"../pycharm/images/1-3.png\">"
   ]
  },
  {
   "cell_type": "code",
   "execution_count": 26,
   "id": "e71a7a57-cb2f-4f15-a428-64a6fc60be3d",
   "metadata": {},
   "outputs": [
    {
     "data": {
      "text/plain": [
       "'cuda'"
      ]
     },
     "execution_count": 26,
     "metadata": {},
     "output_type": "execute_result"
    }
   ],
   "source": [
    "import torch\n",
    "from torch import nn\n",
    "\n",
    "import pandas as pd\n",
    "import numpy as np\n",
    "import matplotlib.pyplot as plt\n",
    "\n",
    "from pathlib import Path\n",
    "\n",
    "# Setup device agnostic code\n",
    "device = 'cuda' if torch.cuda.is_available() else 'cpu'\n",
    "device"
   ]
  },
  {
   "cell_type": "markdown",
   "id": "1ebb96bd-bc2c-4aa3-acbb-323bf05691f3",
   "metadata": {},
   "source": [
    "## 6.1 Data"
   ]
  },
  {
   "cell_type": "code",
   "execution_count": 27,
   "id": "08e6c461-6601-4f4d-acda-f560b0f4bb8a",
   "metadata": {},
   "outputs": [],
   "source": [
    "# Create some data using the linear regression formula y = weight * X + bias\n",
    "# Create *known* parameters \n",
    "data_weight = 0.7\n",
    "data_bias = 0.3\n",
    "\n",
    "# Create\n",
    "data_start = 0\n",
    "data_end = 1\n",
    "data_step = 0.02\n",
    "\n",
    "# Create X and y (features and labels)\n",
    "data_X = torch.arange(data_start, data_end, data_step).unsqueeze(dim=1).to(device)\n",
    "data_y = data_weight * data_X + data_bias"
   ]
  },
  {
   "cell_type": "code",
   "execution_count": 28,
   "id": "6a715cb5-043e-4458-a960-45c7891740bc",
   "metadata": {},
   "outputs": [],
   "source": [
    "# Split data\n",
    "data_train_split = int(0.8 * len(data_X))\n",
    "data_X_train = data_X[:data_train_split]\n",
    "data_y_train = data_y[:data_train_split]\n",
    "data_X_test = data_X[data_train_split:]\n",
    "data_y_test = data_y[data_train_split:]"
   ]
  },
  {
   "cell_type": "code",
   "execution_count": 29,
   "id": "0f32f132-b239-4186-ac14-fd64bfdf56e0",
   "metadata": {},
   "outputs": [],
   "source": [
    "# Visualization function\n",
    "def plot_predictions(train_data=data_X_train,\n",
    "                     train_labels=data_y_train,\n",
    "                     test_data=data_X_test,\n",
    "                     test_labels=data_y_test,\n",
    "                     predictions=None):\n",
    "    \"\"\"\n",
    "    Plots training data, test data and compares predictions\n",
    "    \"\"\"\n",
    "    # Canvas size\n",
    "    plt.figure(figsize=(7, 7))\n",
    "\n",
    "    # plt.scatter(x, y, c)\n",
    "    # x, y - coordinates\n",
    "    # c - color\n",
    "    # s - dot size\n",
    "    \n",
    "    # Plot training data in blue\n",
    "    plt.scatter(train_data, train_labels, c='b', s=4, label='Training data')\n",
    "\n",
    "    # Plot training data in green\n",
    "    plt.scatter(test_data, test_labels, c='g', s=4, label='Testing data')\n",
    "\n",
    "    # Are there predictions \n",
    "    if predictions is not None:\n",
    "        # Plot the predictions if they exists\n",
    "        plt.scatter(test_data, predictions, c='r', s=4, label='Predictions')\n",
    "\n",
    "    # Show the legend\n",
    "    plt.legend(prop={'size': 14})\n"
   ]
  },
  {
   "cell_type": "markdown",
   "id": "1f94bdbc-a668-497a-bb33-e3380ade8abf",
   "metadata": {},
   "source": [
    "## 6.2 Building a PyTorch linear model"
   ]
  },
  {
   "cell_type": "markdown",
   "id": "d4aa6232-5d06-483a-aeee-f12648546e7a",
   "metadata": {},
   "source": [
    "<img src=\"../pycharm/images/1-7.png\">"
   ]
  },
  {
   "cell_type": "code",
   "execution_count": 30,
   "id": "497144de-e7c7-4510-b566-8dc2d890af80",
   "metadata": {},
   "outputs": [],
   "source": [
    "# Create a linear model by subclassing nn.Module\n",
    "class LinearRegressionModelV2(nn.Module):\n",
    "    def __init__(self):\n",
    "        super().__init__()\n",
    "        # Use nn.Linear() for creating model parameters / also called: linear transform, probing layer \n",
    "        self.linear_layer = nn.Linear(in_features=1,\n",
    "                                     out_features=1)\n",
    "\n",
    "    def forward(self, x: torch.Tensor) -> torch.Tensor:\n",
    "        return self.linear_layer(x)"
   ]
  },
  {
   "cell_type": "code",
   "execution_count": 31,
   "id": "d233cff8-0026-4731-8a49-4ab96061d19c",
   "metadata": {},
   "outputs": [
    {
     "data": {
      "text/plain": [
       "device(type='cuda', index=0)"
      ]
     },
     "execution_count": 31,
     "metadata": {},
     "output_type": "execute_result"
    }
   ],
   "source": [
    "torch.manual_seed(42)\n",
    "model_1 = LinearRegressionModelV2()\n",
    "# Set model to use the target device (GPU)\n",
    "model_1.to(device)\n",
    "# Check the model current device\n",
    "next(model_1.parameters()).device"
   ]
  },
  {
   "cell_type": "markdown",
   "id": "eb97657f-4ccb-48e9-8412-421ad26a5f14",
   "metadata": {},
   "source": [
    "# 6.3 Training\n",
    "* Loss function\n",
    "* Optimizer\n",
    "* Training loop\n",
    "* Testing loop"
   ]
  },
  {
   "cell_type": "code",
   "execution_count": 32,
   "id": "2af2e793-e9e5-4935-82fb-ed88c213de5e",
   "metadata": {},
   "outputs": [],
   "source": [
    "# Setup loss function\n",
    "data_loss_fn = nn.L1Loss()\n",
    "\n",
    "# Setup our optimizer\n",
    "data_optimizer = torch.optim.SGD(params=model_1.parameters(),\n",
    "                                 lr=0.01)"
   ]
  },
  {
   "cell_type": "code",
   "execution_count": 34,
   "id": "dc1359ca-cd96-4722-ada3-fbd4824c5c2f",
   "metadata": {},
   "outputs": [
    {
     "name": "stdout",
     "output_type": "stream",
     "text": [
      "Epoch: 0 | Loss: 0.5551779866218567 | Test loss: 0.5739762187004089\n",
      "Epoch: 10 | Loss: 0.439968079328537 | Test loss: 0.4392664134502411\n",
      "Epoch: 20 | Loss: 0.3247582018375397 | Test loss: 0.30455657839775085\n",
      "Epoch: 30 | Loss: 0.20954833924770355 | Test loss: 0.16984669864177704\n",
      "Epoch: 40 | Loss: 0.09433845430612564 | Test loss: 0.03513690456748009\n",
      "Epoch: 50 | Loss: 0.023886388167738914 | Test loss: 0.04784907028079033\n",
      "Epoch: 60 | Loss: 0.019956795498728752 | Test loss: 0.045803118497133255\n",
      "Epoch: 70 | Loss: 0.016517987474799156 | Test loss: 0.037530567497015\n",
      "Epoch: 80 | Loss: 0.013089174404740334 | Test loss: 0.02994490973651409\n",
      "Epoch: 90 | Loss: 0.009653178043663502 | Test loss: 0.02167237363755703\n",
      "Epoch: 100 | Loss: 0.006215683650225401 | Test loss: 0.014086711220443249\n",
      "Epoch: 110 | Loss: 0.00278724217787385 | Test loss: 0.005814164876937866\n",
      "Epoch: 120 | Loss: 0.0012645035749301314 | Test loss: 0.013801801018416882\n",
      "Epoch: 130 | Loss: 0.0012645035749301314 | Test loss: 0.013801801018416882\n",
      "Epoch: 140 | Loss: 0.0012645035749301314 | Test loss: 0.013801801018416882\n",
      "Epoch: 150 | Loss: 0.0012645035749301314 | Test loss: 0.013801801018416882\n",
      "Epoch: 160 | Loss: 0.0012645035749301314 | Test loss: 0.013801801018416882\n",
      "Epoch: 170 | Loss: 0.0012645035749301314 | Test loss: 0.013801801018416882\n",
      "Epoch: 180 | Loss: 0.0012645035749301314 | Test loss: 0.013801801018416882\n",
      "Epoch: 190 | Loss: 0.0012645035749301314 | Test loss: 0.013801801018416882\n"
     ]
    }
   ],
   "source": [
    "# Training loop\n",
    "torch.manual_seed(42)\n",
    "\n",
    "# An epoch is one loop through the data\n",
    "# epoch is hyperparameter because we've set it ourselves\n",
    "epochs = 200\n",
    "\n",
    "# Track different values\n",
    "epoch_count = []\n",
    "loss_values = []\n",
    "test_loss_values = []\n",
    "\n",
    "# Loop through the data\n",
    "for epoch in range(epochs):\n",
    "    # Set the model to training mode\n",
    "    model_1.train() # train mode in PyTorch sets all parameters that require gradients to require gradients\n",
    "\n",
    "    # 1. Forward pass\n",
    "    data_y_preds = model_1(data_X_train)\n",
    "\n",
    "    # 2. Calculate the loss\n",
    "    loss = data_loss_fn(data_y_preds, data_y_train)\n",
    "\n",
    "    # 3. Optimizer zero grad\n",
    "    data_optimizer.zero_grad()\n",
    "    \n",
    "    # 4. Perform back propagation on the loss with respect to the parameters of the model\n",
    "    loss.backward()\n",
    "\n",
    "    # 5. Optimizer step - perform gradient descent\n",
    "    # by default how the optimizer changes will accumulate through the loop, so we have to zero them above in step 3 for the next iteration of the loop\n",
    "    data_optimizer.step() \n",
    "\n",
    "    \n",
    "    # Testing\n",
    "    model_1.eval() # turns off different settings in the model not needed for evaluation/testing (dropout/batch norm lay layers)\n",
    "    with torch.inference_mode(): # Turns off gradient tracking\n",
    "        # 1. Do the forward pass\n",
    "        data_test_pred = model_1(data_X_test)\n",
    "\n",
    "        # 2. Calculate the loss\n",
    "        test_loss = data_loss_fn(data_test_pred, data_y_test)\n",
    "        \n",
    "    if epoch % 10 == 0:\n",
    "        epoch_count.append(epoch)\n",
    "        loss_values.append(loss)\n",
    "        test_loss_values.append(test_loss)\n",
    "        print(f\"Epoch: {epoch} | Loss: {loss} | Test loss: {test_loss}\")        "
   ]
  },
  {
   "cell_type": "code",
   "execution_count": 35,
   "id": "4ed39dba-cb69-409c-b7a8-040e784f5f72",
   "metadata": {},
   "outputs": [
    {
     "data": {
      "text/plain": [
       "OrderedDict([('linear_layer.weight', tensor([[0.6968]], device='cuda:0')),\n",
       "             ('linear_layer.bias', tensor([0.3025], device='cuda:0'))])"
      ]
     },
     "execution_count": 35,
     "metadata": {},
     "output_type": "execute_result"
    }
   ],
   "source": [
    "model_1.state_dict()"
   ]
  },
  {
   "cell_type": "markdown",
   "id": "bc1bff83-8561-4c13-8814-6b368b333f83",
   "metadata": {},
   "source": [
    "## 6.4 Making and evaluating predictions"
   ]
  },
  {
   "cell_type": "code",
   "execution_count": 36,
   "id": "2556656e-d171-4e73-8ba3-4fa665ae68de",
   "metadata": {},
   "outputs": [
    {
     "data": {
      "image/png": "[encoded data removed]",
      "text/plain": [
       "<Figure size 700x700 with 1 Axes>"
      ]
     },
     "metadata": {},
     "output_type": "display_data"
    }
   ],
   "source": [
    "# Visualize\n",
    "model_1.eval()\n",
    "\n",
    "with torch.inference_mode():\n",
    "    data_y_pred_new = model_1(data_X_test)\n",
    "\n",
    "data_y_pred_new_cpu = data_y_pred_new.cpu()\n",
    "\n",
    "data_X_train_cpu = data_X_train.cpu()\n",
    "data_y_train_cpu = data_y_train.cpu()\n",
    "data_X_test_cpu = data_X_test.cpu()\n",
    "data_y_test_cpu = data_y_test.cpu()\n",
    "\n",
    "\n",
    "\n",
    "\n",
    "plot_predictions(train_data=data_X_train_cpu,\n",
    "                     train_labels=data_y_train_cpu,\n",
    "                     test_data=data_X_test_cpu,\n",
    "                     test_labels=data_y_test_cpu,\n",
    "                     predictions=data_y_pred_new_cpu)\n",
    "\n"
   ]
  },
  {
   "cell_type": "code",
   "execution_count": 37,
   "id": "abfb0d18-8b70-4d0b-8b67-be5316c75bdb",
   "metadata": {},
   "outputs": [
    {
     "data": {
      "text/plain": [
       "<matplotlib.legend.Legend at 0x704861f828d0>"
      ]
     },
     "execution_count": 37,
     "metadata": {},
     "output_type": "execute_result"
    },
    {
     "data": {
      "image/png": "[encoded data removed]",
      "text/plain": [
       "<Figure size 700x700 with 1 Axes>"
      ]
     },
     "metadata": {},
     "output_type": "display_data"
    }
   ],
   "source": [
    "# epoch_count_cpu = epoch_count.cpu()\n",
    "# loss_values_cpu = loss_values.cpu()\n",
    "# test_loss_values_cpu = test_loss_values.cpu()\n",
    "loss_values_cpu = np.array(torch.tensor(loss_values).cpu().numpy())\n",
    "test_loss_values_cpu = np.array(torch.tensor(test_loss_values).cpu().numpy())\n",
    "\n",
    "plt.figure(figsize=(7, 7))\n",
    "\n",
    "plt.scatter(epoch_count, loss_values_cpu, c='b', s=4, label='Train loss')\n",
    "plt.scatter(epoch_count, test_loss_values_cpu, c='g', s=4, label='Test loss')\n",
    "plt.legend(prop={'size': 14})"
   ]
  },
  {
   "cell_type": "markdown",
   "id": "ba0cefb6-eb8e-4c86-b703-efeb31e5c979",
   "metadata": {},
   "source": [
    "## 6.5 Saving and Loading a trained model `state_dict()`"
   ]
  },
  {
   "cell_type": "code",
   "execution_count": 38,
   "id": "2b3218ec-c682-4fc4-90a8-9dd97fdba37b",
   "metadata": {},
   "outputs": [],
   "source": [
    "# 1. Create models directory \n",
    "MODEL_PATH = Path('models')\n",
    "MODEL_PATH.mkdir(parents=True, exist_ok=True)\n",
    "\n",
    "# 2. Create model save path\n",
    "MODEL_NAME = '01-workflow-model-1.pth'\n",
    "MODEL_SAVE_PATH = MODEL_PATH / MODEL_NAME\n",
    "\n",
    "# 3. Save the model state dict\n",
    "torch.save(obj=model_1.state_dict(),\n",
    "          f=MODEL_SAVE_PATH)\n"
   ]
  },
  {
   "cell_type": "code",
   "execution_count": 39,
   "id": "494a4db0-5682-49ad-b1d7-e3e73c4843dc",
   "metadata": {},
   "outputs": [
    {
     "data": {
      "text/plain": [
       "<All keys matched successfully>"
      ]
     },
     "execution_count": 39,
     "metadata": {},
     "output_type": "execute_result"
    }
   ],
   "source": [
    "# To load in a saved state_dict we have to instantiate a new instance of our model class\n",
    "loaded_model_1 = LinearRegressionModelV2()\n",
    "\n",
    "# Load the saved state_dict of model_0 (this will update the new instance with updated parameters)\n",
    "loaded_model_1.load_state_dict(torch.load(f=MODEL_SAVE_PATH))"
   ]
  },
  {
   "cell_type": "code",
   "execution_count": 40,
   "id": "3e8c7803-44cd-4825-b7fa-f9548d6b164f",
   "metadata": {},
   "outputs": [],
   "source": [
    "# Evaluate loaded model\n",
    "loaded_model_1.eval()\n",
    "loaded_model_1.to(device)\n",
    "with torch.inference_mode():\n",
    "    loaded_model_1_preds = loaded_model_1(data_X_test)"
   ]
  },
  {
   "cell_type": "code",
   "execution_count": 41,
   "id": "b5b385c5-f22b-4b1b-ba2c-86c853984c31",
   "metadata": {},
   "outputs": [
    {
     "data": {
      "text/plain": [
       "tensor([[True],\n",
       "        [True],\n",
       "        [True],\n",
       "        [True],\n",
       "        [True],\n",
       "        [True],\n",
       "        [True],\n",
       "        [True],\n",
       "        [True],\n",
       "        [True]], device='cuda:0')"
      ]
     },
     "execution_count": 41,
     "metadata": {},
     "output_type": "execute_result"
    }
   ],
   "source": [
    "data_y_pred_new == loaded_model_1_preds"
   ]
  },
  {
   "cell_type": "code",
   "execution_count": null,
   "id": "2a2b93df-af35-46fa-a3fc-551d2398f746",
   "metadata": {},
   "outputs": [],
   "source": []
  }
 ],
 "metadata": {
  "kernelspec": {
   "display_name": "Python 3 (ipykernel)",
   "language": "python",
   "name": "python3"
  },
  "language_info": {
   "codemirror_mode": {
    "name": "ipython",
    "version": 3
   },
   "file_extension": ".py",
   "mimetype": "text/x-python",
   "name": "python",
   "nbconvert_exporter": "python",
   "pygments_lexer": "ipython3",
   "version": "3.11.0"
  }
 },
 "nbformat": 4,
 "nbformat_minor": 5
}
