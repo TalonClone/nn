{
 "cells": [
  {
   "cell_type": "code",
   "execution_count": 1,
   "id": "b9247aff-6e90-4297-ba2e-2b0ce26330a3",
   "metadata": {},
   "outputs": [
    {
     "data": {
      "text/plain": [
       "'cuda'"
      ]
     },
     "execution_count": 1,
     "metadata": {},
     "output_type": "execute_result"
    }
   ],
   "source": [
    "import torch\n",
    "from torch import nn\n",
    "\n",
    "import pandas as pd\n",
    "import numpy as np\n",
    "import matplotlib.pyplot as plt\n",
    "\n",
    "from pathlib import Path\n",
    "\n",
    "# Setup device agnostic code\n",
    "device = 'cuda' if torch.cuda.is_available() else 'cpu'\n",
    "device"
   ]
  },
  {
   "cell_type": "code",
   "execution_count": 2,
   "id": "e717f168-57bf-4114-b7c5-55d9344bb2c5",
   "metadata": {},
   "outputs": [
    {
     "name": "stdout",
     "output_type": "stream",
     "text": [
      "Number of X samples: 100\n",
      "Number of y samples: 100\n",
      "First 10 X & y samples:\n",
      "X: tensor([[0.0000],\n",
      "        [0.0100],\n",
      "        [0.0200],\n",
      "        [0.0300],\n",
      "        [0.0400],\n",
      "        [0.0500],\n",
      "        [0.0600],\n",
      "        [0.0700],\n",
      "        [0.0800],\n",
      "        [0.0900]], device='cuda:0')\n",
      "y: tensor([[0.9000],\n",
      "        [0.9030],\n",
      "        [0.9060],\n",
      "        [0.9090],\n",
      "        [0.9120],\n",
      "        [0.9150],\n",
      "        [0.9180],\n",
      "        [0.9210],\n",
      "        [0.9240],\n",
      "        [0.9270]], device='cuda:0')\n"
     ]
    }
   ],
   "source": [
    "# Create some data using the linear regression formula y = weight * X + bias\n",
    "# Create *known* parameters \n",
    "# weight = 0.3\n",
    "# bias = 0.9\n",
    "weight = 0.3\n",
    "bias = 0.9\n",
    "\n",
    "# Create\n",
    "start = 0\n",
    "end = 1\n",
    "step = 0.01\n",
    "\n",
    "# Create X and y (features and labels)\n",
    "X = torch.arange(start, end, step).unsqueeze(dim=1).to(device)\n",
    "y = weight * X + bias\n",
    "\n",
    "print(f\"Number of X samples: {len(X)}\")\n",
    "print(f\"Number of y samples: {len(y)}\")\n",
    "print(f\"First 10 X & y samples:\\nX: {X[:10]}\\ny: {y[:10]}\")"
   ]
  },
  {
   "cell_type": "code",
   "execution_count": 3,
   "id": "1fcc9174-1145-435a-a66a-141e3c9f0e69",
   "metadata": {},
   "outputs": [],
   "source": [
    "# Split data\n",
    "train_split = int(0.8 * len(X))\n",
    "X_train = X[:train_split]\n",
    "y_train = y[:train_split]\n",
    "X_test = X[train_split:]\n",
    "y_test = y[train_split:]"
   ]
  },
  {
   "cell_type": "code",
   "execution_count": 4,
   "id": "1adbefce-6231-41bd-b202-7ea39188f2d0",
   "metadata": {},
   "outputs": [],
   "source": [
    "# Visualization function\n",
    "def plot_predictions(train_data=X_train.cpu(),\n",
    "                     train_labels=y_train.cpu(),\n",
    "                     test_data=X_test.cpu(),\n",
    "                     test_labels=y_test.cpu(),\n",
    "                     predictions=None):\n",
    "    \"\"\"\n",
    "    Plots training data, test data and compares predictions\n",
    "    \"\"\"\n",
    "    # Canvas size\n",
    "    plt.figure(figsize=(7, 7))\n",
    "\n",
    "    # plt.scatter(x, y, c)\n",
    "    # x, y - coordinates\n",
    "    # c - color\n",
    "    # s - dot size\n",
    "    \n",
    "    # Plot training data in blue\n",
    "    plt.scatter(train_data, train_labels, c='b', s=4, label='Training data')\n",
    "\n",
    "    # Plot training data in green\n",
    "    plt.scatter(test_data, test_labels, c='g', s=4, label='Testing data')\n",
    "\n",
    "    # Are there predictions \n",
    "    if predictions is not None:\n",
    "        # Plot the predictions if they exists\n",
    "        plt.scatter(test_data, predictions, c='r', s=4, label='Predictions')\n",
    "\n",
    "    # Show the legend\n",
    "    plt.legend(prop={'size': 14})"
   ]
  },
  {
   "cell_type": "code",
   "execution_count": 5,
   "id": "d217dfe1-d591-4d65-9d73-7d805552b074",
   "metadata": {},
   "outputs": [
    {
     "data": {
      "image/png": "[encoded data removed]",
      "text/plain": [
       "<Figure size 700x700 with 1 Axes>"
      ]
     },
     "metadata": {},
     "output_type": "display_data"
    }
   ],
   "source": [
    "plot_predictions()"
   ]
  },
  {
   "cell_type": "code",
   "execution_count": 6,
   "id": "310c8df3-b1c4-4b0c-baad-d528fdb79c96",
   "metadata": {},
   "outputs": [],
   "source": [
    "# Create a linear model by subclassing nn.Module\n",
    "class LinearRegressionModel(nn.Module):\n",
    "    def __init__(self):\n",
    "        super().__init__()\n",
    "        # Use nn.Linear() for creating model parameters / also called: linear transform, probing layer \n",
    "        self.linear_layer = nn.Linear(in_features=1,\n",
    "                                     out_features=1)\n",
    "\n",
    "    def forward(self, x: torch.Tensor) -> torch.Tensor:\n",
    "        return self.linear_layer(x)"
   ]
  },
  {
   "cell_type": "code",
   "execution_count": 7,
   "id": "ed677495-07eb-4a7c-815c-100a16e2e4d9",
   "metadata": {},
   "outputs": [
    {
     "data": {
      "text/plain": [
       "device(type='cuda', index=0)"
      ]
     },
     "execution_count": 7,
     "metadata": {},
     "output_type": "execute_result"
    }
   ],
   "source": [
    "torch.manual_seed(42)\n",
    "model = LinearRegressionModel()\n",
    "# Set model to use the target device (GPU)\n",
    "model.to(device)\n",
    "# Check the model current device\n",
    "next(model.parameters()).device"
   ]
  },
  {
   "cell_type": "code",
   "execution_count": 8,
   "id": "88da87e5-e199-4dd1-b67f-0456fbeef66d",
   "metadata": {},
   "outputs": [],
   "source": [
    "# Setup loss function\n",
    "loss_fn = nn.L1Loss()\n",
    "\n",
    "# Setup our optimizer\n",
    "optimizer = torch.optim.SGD(params=model.parameters(),\n",
    "                                 lr=0.01)"
   ]
  },
  {
   "cell_type": "code",
   "execution_count": 9,
   "id": "4baebb5a-7540-42bd-907c-63cc41fb61ea",
   "metadata": {},
   "outputs": [
    {
     "name": "stdout",
     "output_type": "stream",
     "text": [
      "Epoch: 0 | Loss: 0.1275613158941269 | Test loss: 0.33650314807891846\n",
      "Epoch: 20 | Loss: 0.08187223970890045 | Test loss: 0.21840262413024902\n",
      "Epoch: 40 | Loss: 0.07207288593053818 | Test loss: 0.17458660900592804\n",
      "Epoch: 60 | Loss: 0.06507988274097443 | Test loss: 0.15310420095920563\n",
      "Epoch: 80 | Loss: 0.05822876840829849 | Test loss: 0.1367770880460739\n",
      "Epoch: 100 | Loss: 0.05137667804956436 | Test loss: 0.12079393863677979\n",
      "Epoch: 120 | Loss: 0.04452557489275932 | Test loss: 0.10446684807538986\n",
      "Epoch: 140 | Loss: 0.0376744270324707 | Test loss: 0.08813951909542084\n",
      "Epoch: 160 | Loss: 0.03082224726676941 | Test loss: 0.0721558928489685\n",
      "Epoch: 180 | Loss: 0.02397105097770691 | Test loss: 0.055828340351581573\n",
      "Epoch: 200 | Loss: 0.017119847238063812 | Test loss: 0.03950077295303345\n",
      "Epoch: 220 | Loss: 0.010267681442201138 | Test loss: 0.02351718582212925\n",
      "Epoch: 240 | Loss: 0.003416901919990778 | Test loss: 0.007191836833953857\n",
      "Epoch: 260 | Loss: 0.007878492586314678 | Test loss: 0.007064235396683216\n",
      "Epoch: 280 | Loss: 0.007878492586314678 | Test loss: 0.007064235396683216\n",
      "Epoch: 300 | Loss: 0.007878492586314678 | Test loss: 0.007064235396683216\n",
      "Epoch: 320 | Loss: 0.007878492586314678 | Test loss: 0.007064235396683216\n",
      "Epoch: 340 | Loss: 0.007878492586314678 | Test loss: 0.007064235396683216\n",
      "Epoch: 360 | Loss: 0.007878492586314678 | Test loss: 0.007064235396683216\n",
      "Epoch: 380 | Loss: 0.007878492586314678 | Test loss: 0.007064235396683216\n",
      "Epoch: 400 | Loss: 0.007878492586314678 | Test loss: 0.007064235396683216\n",
      "Epoch: 420 | Loss: 0.007878492586314678 | Test loss: 0.007064235396683216\n",
      "Epoch: 440 | Loss: 0.007878492586314678 | Test loss: 0.007064235396683216\n",
      "Epoch: 460 | Loss: 0.007878492586314678 | Test loss: 0.007064235396683216\n",
      "Epoch: 480 | Loss: 0.007878492586314678 | Test loss: 0.007064235396683216\n",
      "Epoch: 500 | Loss: 0.007878492586314678 | Test loss: 0.007064235396683216\n",
      "Epoch: 520 | Loss: 0.007878492586314678 | Test loss: 0.007064235396683216\n",
      "Epoch: 540 | Loss: 0.007878492586314678 | Test loss: 0.007064235396683216\n",
      "Epoch: 560 | Loss: 0.007878492586314678 | Test loss: 0.007064235396683216\n",
      "Epoch: 580 | Loss: 0.007878492586314678 | Test loss: 0.007064235396683216\n"
     ]
    }
   ],
   "source": [
    "# Training loop\n",
    "# torch.manual_seed(42)\n",
    "\n",
    "# An epoch is one loop through the data\n",
    "# epoch is hyperparameter because we've set it ourselves\n",
    "epochs = 600\n",
    "\n",
    "# Track different values\n",
    "epoch_count = []\n",
    "loss_values = []\n",
    "test_loss_values = []\n",
    "\n",
    "# Loop through the data\n",
    "for epoch in range(epochs):\n",
    "    # Set the model to training mode\n",
    "    model.train() # train mode in PyTorch sets all parameters that require gradients to require gradients\n",
    "\n",
    "    # 1. Forward pass\n",
    "    y_preds = model(X_train)\n",
    "\n",
    "    # 2. Calculate the loss\n",
    "    loss = loss_fn(y_preds, y_train)\n",
    "\n",
    "    # 3. Optimizer zero grad\n",
    "    optimizer.zero_grad()\n",
    "    \n",
    "    # 4. Perform back propagation on the loss with respect to the parameters of the model\n",
    "    loss.backward()\n",
    "\n",
    "    # 5. Optimizer step - perform gradient descent\n",
    "    # by default how the optimizer changes will accumulate through the loop, so we have to zero them above in step 3 for the next iteration of the loop\n",
    "    optimizer.step() \n",
    "\n",
    "    \n",
    "    # Testing\n",
    "    model.eval() # turns off different settings in the model not needed for evaluation/testing (dropout/batch norm lay layers)\n",
    "    with torch.inference_mode(): # Turns off gradient tracking\n",
    "        # 1. Do the forward pass\n",
    "        test_pred = model(X_test)\n",
    "\n",
    "        # 2. Calculate the loss\n",
    "        test_loss = loss_fn(test_pred, y_test)\n",
    "        \n",
    "    if epoch % 20 == 0:\n",
    "        epoch_count.append(epoch)\n",
    "        loss_values.append(loss)\n",
    "        test_loss_values.append(test_loss)\n",
    "        print(f\"Epoch: {epoch} | Loss: {loss} | Test loss: {test_loss}\")        "
   ]
  },
  {
   "cell_type": "code",
   "execution_count": 10,
   "id": "10615be5-ef77-4acd-9508-33866f7d074e",
   "metadata": {},
   "outputs": [
    {
     "data": {
      "image/png": "[encoded data removed]",
      "text/plain": [
       "<Figure size 700x700 with 1 Axes>"
      ]
     },
     "metadata": {},
     "output_type": "display_data"
    }
   ],
   "source": [
    "# Visualize\n",
    "model.eval()\n",
    "\n",
    "with torch.inference_mode():\n",
    "    y_pred = model(X_test)\n",
    "\n",
    "\n",
    "plot_predictions(train_data=X_train.cpu(),\n",
    "                     train_labels=y_train.cpu(),\n",
    "                     test_data=X_test.cpu(),\n",
    "                     test_labels=y_test.cpu(),\n",
    "                     predictions=y_pred.cpu())\n",
    "\n"
   ]
  },
  {
   "cell_type": "code",
   "execution_count": 11,
   "id": "2cc7dee0-d66f-4712-a1f6-e0fd10147969",
   "metadata": {},
   "outputs": [
    {
     "data": {
      "text/plain": [
       "OrderedDict([('linear_layer.weight', tensor([[0.3028]], device='cuda:0')),\n",
       "             ('linear_layer.bias', tensor([0.8910], device='cuda:0'))])"
      ]
     },
     "execution_count": 11,
     "metadata": {},
     "output_type": "execute_result"
    }
   ],
   "source": [
    "model.state_dict()"
   ]
  },
  {
   "cell_type": "code",
   "execution_count": 12,
   "id": "8fc2220a-8204-48fb-adc7-104c5b0d6480",
   "metadata": {},
   "outputs": [
    {
     "data": {
      "text/plain": [
       "(0.3, 0.9)"
      ]
     },
     "execution_count": 12,
     "metadata": {},
     "output_type": "execute_result"
    }
   ],
   "source": [
    "weight, bias"
   ]
  },
  {
   "cell_type": "code",
   "execution_count": null,
   "id": "f61724eb-8412-4d33-9d71-5f515cb45605",
   "metadata": {},
   "outputs": [],
   "source": []
  }
 ],
 "metadata": {
  "kernelspec": {
   "display_name": "Python 3 (ipykernel)",
   "language": "python",
   "name": "python3"
  },
  "language_info": {
   "codemirror_mode": {
    "name": "ipython",
    "version": 3
   },
   "file_extension": ".py",
   "mimetype": "text/x-python",
   "name": "python",
   "nbconvert_exporter": "python",
   "pygments_lexer": "ipython3",
   "version": "3.11.0"
  }
 },
 "nbformat": 4,
 "nbformat_minor": 5
}
