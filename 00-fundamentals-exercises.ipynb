{
 "cells": [
  {
   "cell_type": "code",
   "execution_count": 13,
   "id": "a9c6878a-f728-45f1-b900-1479d7376eb8",
   "metadata": {},
   "outputs": [
    {
     "name": "stdout",
     "output_type": "stream",
     "text": [
      "True\n"
     ]
    }
   ],
   "source": [
    "import torch\n",
    "import pandas as pd\n",
    "import numpy as np\n",
    "import matplotlib.pyplot as plt\n",
    "\n",
    "# Setup device agnostic code\n",
    "device = 'cuda' if torch.cuda.is_available() else 'cpu'\n",
    "device\n",
    "\n",
    "# Check for GPU (should return True)\n",
    "print(torch.cuda.is_available())"
   ]
  },
  {
   "cell_type": "markdown",
   "id": "b4bdf40a-3c4b-4652-bc2a-9c81f9d13d92",
   "metadata": {},
   "source": [
    "# 1. Documentation reading\n",
    "\n",
    "A big part of deep learning (and learning to code in general) is getting familiar with the documentation of a certain framework you're using. We'll be using the PyTorch documentation a lot throughout the rest of this course. So I'd recommend spending 10-minutes reading the following (it's okay if you don't get some things for now, the focus is not yet full understanding, it's awareness):\n",
    "\n",
    "* The documentation on `torch.Tensor`.\n",
    "* The documentation on `torch.cuda`.\n"
   ]
  },
  {
   "cell_type": "markdown",
   "id": "0a8f8991-813d-4913-89fa-5721497a2f36",
   "metadata": {},
   "source": [
    "# 2. Create a random tensor with shape (7, 7)."
   ]
  },
  {
   "cell_type": "code",
   "execution_count": 2,
   "id": "3f47aa80-a1cb-45ac-ace1-b6e5cfe44553",
   "metadata": {},
   "outputs": [
    {
     "data": {
      "text/plain": [
       "tensor([[0.9526, 0.4821, 0.9081, 0.5578, 0.6190, 0.6979, 0.7425],\n",
       "        [0.4887, 0.8666, 0.9788, 0.4119, 0.2415, 0.9602, 0.7082],\n",
       "        [0.5142, 0.9331, 0.2313, 0.1328, 0.3942, 0.5263, 0.6212],\n",
       "        [0.4553, 0.8690, 0.5941, 0.0067, 0.8243, 0.9618, 0.5596],\n",
       "        [0.9248, 0.3059, 0.5802, 0.1167, 0.0160, 0.5972, 0.4161],\n",
       "        [0.0534, 0.1947, 0.9412, 0.1454, 0.2094, 0.8786, 0.7328],\n",
       "        [0.8802, 0.6485, 0.4679, 0.9762, 0.6135, 0.2783, 0.6064]])"
      ]
     },
     "execution_count": 2,
     "metadata": {},
     "output_type": "execute_result"
    }
   ],
   "source": [
    "exe0 = torch.rand(7, 7)\n",
    "exe0"
   ]
  },
  {
   "cell_type": "code",
   "execution_count": 3,
   "id": "3a41c935-6a3a-4473-9a92-b2eb96c90895",
   "metadata": {},
   "outputs": [
    {
     "data": {
      "text/plain": [
       "torch.Size([7, 7])"
      ]
     },
     "execution_count": 3,
     "metadata": {},
     "output_type": "execute_result"
    }
   ],
   "source": [
    "exe0.shape"
   ]
  },
  {
   "cell_type": "markdown",
   "id": "f33a9ce4-7a56-478d-8733-3fd2a16e0677",
   "metadata": {},
   "source": [
    "# 3. Perform a matrix multiplication on the tensor from 2 with another random tensor with shape (1, 7) (hint: you may have to transpose the second tensor)."
   ]
  },
  {
   "cell_type": "code",
   "execution_count": 4,
   "id": "6b12fb5e-4440-43c9-b9b6-6b0a328016e2",
   "metadata": {},
   "outputs": [],
   "source": [
    "exe1 = torch.rand(1, 7)"
   ]
  },
  {
   "cell_type": "code",
   "execution_count": 5,
   "id": "624f359f-cf64-4cb3-9457-4f9a18b7de4e",
   "metadata": {},
   "outputs": [
    {
     "data": {
      "text/plain": [
       "tensor([[2.0254],\n",
       "        [1.6799],\n",
       "        [1.2261],\n",
       "        [1.8473],\n",
       "        [0.9788],\n",
       "        [1.2992],\n",
       "        [1.6933]])"
      ]
     },
     "execution_count": 5,
     "metadata": {},
     "output_type": "execute_result"
    }
   ],
   "source": [
    "mm = torch.matmul(exe0, exe1.T)\n",
    "mm"
   ]
  },
  {
   "cell_type": "markdown",
   "id": "31d3241c-2140-4027-b9b8-2f84ca9e7a42",
   "metadata": {},
   "source": [
    "# 4. Set the random seed to 0 and do 2 & 3 over again"
   ]
  },
  {
   "cell_type": "code",
   "execution_count": 6,
   "id": "012975e8-7369-44fb-8d2f-87c0fcfe0361",
   "metadata": {},
   "outputs": [],
   "source": [
    "RANDOM_SEED = 0"
   ]
  },
  {
   "cell_type": "code",
   "execution_count": 7,
   "id": "0a1c2786-3da3-45ce-8313-62857306d7e7",
   "metadata": {},
   "outputs": [],
   "source": [
    "torch.manual_seed(RANDOM_SEED)\n",
    "seed_exe0 = torch.rand(7, 7)\n",
    "seed_exe1 = torch.rand(1, 7)"
   ]
  },
  {
   "cell_type": "code",
   "execution_count": 8,
   "id": "14ca4c0f-d876-4180-99a7-5481a86fece7",
   "metadata": {},
   "outputs": [
    {
     "data": {
      "text/plain": [
       "(tensor([[1.8542],\n",
       "         [1.9611],\n",
       "         [2.2884],\n",
       "         [3.0481],\n",
       "         [1.7067],\n",
       "         [2.5290],\n",
       "         [1.7989]]),\n",
       " torch.Size([7, 1]))"
      ]
     },
     "execution_count": 8,
     "metadata": {},
     "output_type": "execute_result"
    }
   ],
   "source": [
    "seed_mm = torch.matmul(seed_exe0, seed_exe1.T)\n",
    "seed_mm, seed_mm.shape"
   ]
  },
  {
   "cell_type": "markdown",
   "id": "73bc5034-f3ab-432f-adbe-2fac8b3569b0",
   "metadata": {},
   "source": [
    "# 5. Speaking of random seeds, we saw how to set it with torch.manual_seed() but is there a GPU equivalent? (hint: you'll need to look into the documentation for torch.cuda for this one)"
   ]
  },
  {
   "cell_type": "code",
   "execution_count": 9,
   "id": "be7b4928-6cef-499a-9657-c32fc60e96f5",
   "metadata": {},
   "outputs": [],
   "source": [
    "CUDA_RANDOM_SEED = 1234\n",
    "torch.cuda.manual_seed(CUDA_RANDOM_SEED)\n",
    "cuda_seed_exe0 = torch.rand(7, 7)\n",
    "cuda_seed_exe1 = torch.rand(1, 7)"
   ]
  },
  {
   "cell_type": "code",
   "execution_count": 10,
   "id": "8e2989ab-0783-47ff-a06c-999862953d02",
   "metadata": {},
   "outputs": [
    {
     "data": {
      "text/plain": [
       "(tensor([[1.2239],\n",
       "         [2.0847],\n",
       "         [1.9002],\n",
       "         [0.9408],\n",
       "         [1.5213],\n",
       "         [1.3606],\n",
       "         [0.8780]]),\n",
       " torch.Size([7, 1]))"
      ]
     },
     "execution_count": 10,
     "metadata": {},
     "output_type": "execute_result"
    }
   ],
   "source": [
    "cuda_seed_mm = torch.matmul(cuda_seed_exe0, cuda_seed_exe1.T)\n",
    "cuda_seed_mm, seed_mm.shape"
   ]
  },
  {
   "cell_type": "markdown",
   "id": "55973d91-ba3d-4a56-9a65-f96e60797ad5",
   "metadata": {},
   "source": [
    "# 6. Create two random tensors of shape (2, 3) and send them both to the GPU (you'll need access to a GPU for this). Set torch.manual_seed(1234) when creating the tensors (this doesn't have to be the GPU random seed). The output should be something like:"
   ]
  },
  {
   "cell_type": "code",
   "execution_count": 16,
   "id": "7766ae7c-6788-4c8d-bd16-8445cb7e8914",
   "metadata": {},
   "outputs": [],
   "source": [
    "torch.manual_seed(1234)\n",
    "exe2 = torch.rand(2, 3)\n",
    "exe3 = torch.rand(2, 3)"
   ]
  },
  {
   "cell_type": "code",
   "execution_count": 17,
   "id": "3f16153d-0735-4bf0-89b8-2860e885a1fa",
   "metadata": {},
   "outputs": [
    {
     "data": {
      "text/plain": [
       "tensor([[0.0290, 0.4019, 0.2598],\n",
       "        [0.3666, 0.0583, 0.7006]], device='cuda:0')"
      ]
     },
     "execution_count": 17,
     "metadata": {},
     "output_type": "execute_result"
    }
   ],
   "source": [
    "cuda_exe2 = exe2.to(device)\n",
    "cuda_exe2"
   ]
  },
  {
   "cell_type": "code",
   "execution_count": 18,
   "id": "8d0ba3fd-aa68-45fd-a96f-76a78fbf5dff",
   "metadata": {},
   "outputs": [
    {
     "data": {
      "text/plain": [
       "tensor([[0.0518, 0.4681, 0.6738],\n",
       "        [0.3315, 0.7837, 0.5631]], device='cuda:0')"
      ]
     },
     "execution_count": 18,
     "metadata": {},
     "output_type": "execute_result"
    }
   ],
   "source": [
    "cuda_exe3 = exe3.to(device)\n",
    "cuda_exe3"
   ]
  },
  {
   "cell_type": "markdown",
   "id": "d23a1860-f785-472b-a178-b747901200cd",
   "metadata": {},
   "source": [
    "# 7. Perform a matrix multiplication on the tensors you created in 6 (again, you may have to adjust the shapes of one of the tensors)."
   ]
  },
  {
   "cell_type": "code",
   "execution_count": 21,
   "id": "45b6f450-a4dd-4193-bbd6-7fad04fc68f2",
   "metadata": {},
   "outputs": [
    {
     "data": {
      "text/plain": [
       "(tensor([[0.3647, 0.4709],\n",
       "         [0.5184, 0.5617]], device='cuda:0'),\n",
       " torch.Size([2, 2]))"
      ]
     },
     "execution_count": 21,
     "metadata": {},
     "output_type": "execute_result"
    }
   ],
   "source": [
    "cuda_seed_mm = torch.matmul(cuda_exe2, cuda_exe3.T)\n",
    "cuda_seed_mm, cuda_seed_mm.shape"
   ]
  },
  {
   "cell_type": "markdown",
   "id": "d532ab43-7299-4894-87db-83d54739535a",
   "metadata": {},
   "source": [
    "# 8. Find the maximum and minimum values of the output of 7."
   ]
  },
  {
   "cell_type": "code",
   "execution_count": 23,
   "id": "05490b05-4fdf-4fe8-b08d-1e419609d0db",
   "metadata": {},
   "outputs": [
    {
     "data": {
      "text/plain": [
       "tensor([[0.3647, 0.4709],\n",
       "        [0.5184, 0.5617]], device='cuda:0')"
      ]
     },
     "execution_count": 23,
     "metadata": {},
     "output_type": "execute_result"
    }
   ],
   "source": [
    "cuda_seed_mm"
   ]
  },
  {
   "cell_type": "code",
   "execution_count": 24,
   "id": "6acd2ede-32e6-4e9d-8dd8-b7d91e977bbe",
   "metadata": {},
   "outputs": [
    {
     "data": {
      "text/plain": [
       "tensor(0.5617, device='cuda:0')"
      ]
     },
     "execution_count": 24,
     "metadata": {},
     "output_type": "execute_result"
    }
   ],
   "source": [
    "torch.max(cuda_seed_mm)"
   ]
  },
  {
   "cell_type": "code",
   "execution_count": 33,
   "id": "6b1af370-5b8d-4566-914a-40ff23e641bc",
   "metadata": {},
   "outputs": [
    {
     "data": {
      "text/plain": [
       "tensor(0.3647, device='cuda:0')"
      ]
     },
     "execution_count": 33,
     "metadata": {},
     "output_type": "execute_result"
    }
   ],
   "source": [
    "torch.min(cuda_seed_mm)"
   ]
  },
  {
   "cell_type": "markdown",
   "id": "6ab66145-0f2f-4880-b67c-a508283a20b0",
   "metadata": {},
   "source": [
    "# 9. Find the maximum and minimum index values of the output of 7."
   ]
  },
  {
   "cell_type": "code",
   "execution_count": 34,
   "id": "6e5690d0-b774-40ea-a542-be99d63ad893",
   "metadata": {},
   "outputs": [
    {
     "data": {
      "text/plain": [
       "tensor(3, device='cuda:0')"
      ]
     },
     "execution_count": 34,
     "metadata": {},
     "output_type": "execute_result"
    }
   ],
   "source": [
    "torch.argmax(cuda_seed_mm)"
   ]
  },
  {
   "cell_type": "code",
   "execution_count": 35,
   "id": "37005306-5434-4e36-bbfb-00c1c772b87c",
   "metadata": {},
   "outputs": [
    {
     "data": {
      "text/plain": [
       "tensor(0, device='cuda:0')"
      ]
     },
     "execution_count": 35,
     "metadata": {},
     "output_type": "execute_result"
    }
   ],
   "source": [
    "torch.argmin(cuda_seed_mm)"
   ]
  },
  {
   "cell_type": "markdown",
   "id": "fe48c3db-4629-4471-b6d0-53fa12c6b522",
   "metadata": {},
   "source": [
    "# 10. Make a random tensor with shape (1, 1, 1, 10) and then create a new tensor with all the 1 dimensions removed to be left with a tensor of shape (10). Set the seed to 7 when you create it and print out the first tensor and it's shape as well as the second tensor and it's shape."
   ]
  },
  {
   "cell_type": "code",
   "execution_count": 31,
   "id": "c098f5a3-7f5d-4927-8c51-0ac5f9090524",
   "metadata": {},
   "outputs": [
    {
     "data": {
      "text/plain": [
       "(tensor([[[[0.5349, 0.1988, 0.6592, 0.6569, 0.2328, 0.4251, 0.2071, 0.6297,\n",
       "            0.3653, 0.8513]]]]),\n",
       " torch.Size([1, 1, 1, 10]))"
      ]
     },
     "execution_count": 31,
     "metadata": {},
     "output_type": "execute_result"
    }
   ],
   "source": [
    "torch.manual_seed(7)\n",
    "seed_exe4 = torch.rand(1, 1, 1, 10)\n",
    "seed_exe4, seed_exe4.shape"
   ]
  },
  {
   "cell_type": "code",
   "execution_count": 32,
   "id": "2c323df2-6a1d-4c36-975a-0d8d038a397f",
   "metadata": {},
   "outputs": [
    {
     "data": {
      "text/plain": [
       "(tensor([0.5349, 0.1988, 0.6592, 0.6569, 0.2328, 0.4251, 0.2071, 0.6297, 0.3653,\n",
       "         0.8513]),\n",
       " torch.Size([10]))"
      ]
     },
     "execution_count": 32,
     "metadata": {},
     "output_type": "execute_result"
    }
   ],
   "source": [
    "seed_exe4_squeezed = seed_exe4.squeeze()\n",
    "seed_exe4_squeezed, seed_exe4_squeezed.shape"
   ]
  },
  {
   "cell_type": "code",
   "execution_count": null,
   "id": "1627dded-2e7c-470a-a610-7a9bfa26963a",
   "metadata": {},
   "outputs": [],
   "source": []
  }
 ],
 "metadata": {
  "kernelspec": {
   "display_name": "Python 3 (ipykernel)",
   "language": "python",
   "name": "python3"
  },
  "language_info": {
   "codemirror_mode": {
    "name": "ipython",
    "version": 3
   },
   "file_extension": ".py",
   "mimetype": "text/x-python",
   "name": "python",
   "nbconvert_exporter": "python",
   "pygments_lexer": "ipython3",
   "version": "3.11.0"
  }
 },
 "nbformat": 4,
 "nbformat_minor": 5
}
